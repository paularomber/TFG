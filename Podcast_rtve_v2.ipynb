{
 "cells": [
  {
   "cell_type": "code",
   "execution_count": 1,
   "metadata": {},
   "outputs": [],
   "source": [
    "import pandas as pd\n",
    "import numpy as np\n",
    "\n",
    "from datetime import date\n",
    "from datetime import datetime\n",
    "import datetime\n",
    "\n",
    "import matplotlib.pyplot as plt\n",
    "\n",
    "datos = pd.read_csv('C:/Users/Paula/Desktop/TFG/rtve-observations-episodes-2019-11-01.zip')"
   ]
  },
  {
   "cell_type": "code",
   "execution_count": 2,
   "metadata": {},
   "outputs": [
    {
     "data": {
      "text/html": [
       "<div>\n",
       "<style scoped>\n",
       "    .dataframe tbody tr th:only-of-type {\n",
       "        vertical-align: middle;\n",
       "    }\n",
       "\n",
       "    .dataframe tbody tr th {\n",
       "        vertical-align: top;\n",
       "    }\n",
       "\n",
       "    .dataframe thead th {\n",
       "        text-align: right;\n",
       "    }\n",
       "</style>\n",
       "<table border=\"1\" class=\"dataframe\">\n",
       "  <thead>\n",
       "    <tr style=\"text-align: right;\">\n",
       "      <th></th>\n",
       "      <th>id</th>\n",
       "      <th>date</th>\n",
       "      <th>metric</th>\n",
       "      <th>value</th>\n",
       "      <th>user</th>\n",
       "      <th>referer</th>\n",
       "      <th>os_family</th>\n",
       "      <th>os_version</th>\n",
       "      <th>browser_family</th>\n",
       "      <th>browser_version</th>\n",
       "      <th>...</th>\n",
       "      <th>podcast_permalink</th>\n",
       "      <th>podcast_topic</th>\n",
       "      <th>entries_processed</th>\n",
       "      <th>hostname</th>\n",
       "      <th>city</th>\n",
       "      <th>region</th>\n",
       "      <th>country</th>\n",
       "      <th>location</th>\n",
       "      <th>zip_code</th>\n",
       "      <th>time_zone</th>\n",
       "    </tr>\n",
       "  </thead>\n",
       "  <tbody>\n",
       "    <tr>\n",
       "      <th>0</th>\n",
       "      <td>1a50eda4-26b1-47df-949d-4827665b79e3</td>\n",
       "      <td>2019-11-01T00:56:36.000</td>\n",
       "      <td>Número de descargas de tipo 206</td>\n",
       "      <td>1</td>\n",
       "      <td>6624207285322504776</td>\n",
       "      <td>NaN</td>\n",
       "      <td>Android</td>\n",
       "      <td>6.0.1</td>\n",
       "      <td>Android</td>\n",
       "      <td>6.0.1</td>\n",
       "      <td>...</td>\n",
       "      <td>RADIO-NACIONAL</td>\n",
       "      <td>Informativos</td>\n",
       "      <td>4</td>\n",
       "      <td>NaN</td>\n",
       "      <td>Palencia</td>\n",
       "      <td>Castilla y León</td>\n",
       "      <td>España</td>\n",
       "      <td>42.0021, -4.5237</td>\n",
       "      <td>34004</td>\n",
       "      <td>Europe/Madrid</td>\n",
       "    </tr>\n",
       "    <tr>\n",
       "      <th>1</th>\n",
       "      <td>da19819a-3784-41ef-9ecd-67d6e4be37aa</td>\n",
       "      <td>2019-11-01T01:27:37.000</td>\n",
       "      <td>Número de descargas parciales de tipo 200</td>\n",
       "      <td>1</td>\n",
       "      <td>1093782487219863411</td>\n",
       "      <td>NaN</td>\n",
       "      <td>Android</td>\n",
       "      <td>8.0.0</td>\n",
       "      <td>Android</td>\n",
       "      <td>8.0.0</td>\n",
       "      <td>...</td>\n",
       "      <td>RADIO-NACIONAL</td>\n",
       "      <td>Informativos</td>\n",
       "      <td>21</td>\n",
       "      <td>NaN</td>\n",
       "      <td>Madrid</td>\n",
       "      <td>Madrid</td>\n",
       "      <td>España</td>\n",
       "      <td>40.4143, -3.7016</td>\n",
       "      <td>28021</td>\n",
       "      <td>Europe/Madrid</td>\n",
       "    </tr>\n",
       "    <tr>\n",
       "      <th>2</th>\n",
       "      <td>a60f41aa-6b3d-4fe9-bf9b-6311c57abfc1</td>\n",
       "      <td>2019-11-01T00:49:33.000</td>\n",
       "      <td>Número de descargas de tipo 206</td>\n",
       "      <td>1</td>\n",
       "      <td>-3042089131472286197</td>\n",
       "      <td>RTVE</td>\n",
       "      <td>Windows</td>\n",
       "      <td>7</td>\n",
       "      <td>Chrome</td>\n",
       "      <td>77.0.3865</td>\n",
       "      <td>...</td>\n",
       "      <td>RADIO-CLASICA</td>\n",
       "      <td>Música</td>\n",
       "      <td>7</td>\n",
       "      <td>NaN</td>\n",
       "      <td>San Sebastián Tutla</td>\n",
       "      <td>Oaxaca</td>\n",
       "      <td>México</td>\n",
       "      <td>17.0645, -96.6705</td>\n",
       "      <td>71242</td>\n",
       "      <td>America/Mexico_City</td>\n",
       "    </tr>\n",
       "    <tr>\n",
       "      <th>3</th>\n",
       "      <td>e85a8032-abad-48b4-9bd2-2765a4b730f4</td>\n",
       "      <td>2019-11-01T01:27:12.000</td>\n",
       "      <td>Número de descargas de tipo 206</td>\n",
       "      <td>1</td>\n",
       "      <td>-5995978442346962145</td>\n",
       "      <td>NaN</td>\n",
       "      <td>Android</td>\n",
       "      <td>9</td>\n",
       "      <td>Other</td>\n",
       "      <td>NaN</td>\n",
       "      <td>...</td>\n",
       "      <td>RADIO-NACIONAL</td>\n",
       "      <td>Entretenimiento</td>\n",
       "      <td>15</td>\n",
       "      <td>NaN</td>\n",
       "      <td>La Matanza de Acentejo</td>\n",
       "      <td>Canarias</td>\n",
       "      <td>España</td>\n",
       "      <td>28.4524, -16.4472</td>\n",
       "      <td>38370</td>\n",
       "      <td>Atlantic/Canary</td>\n",
       "    </tr>\n",
       "    <tr>\n",
       "      <th>4</th>\n",
       "      <td>f3dabef8-f024-4f49-a04e-db6bbc1d5e2b</td>\n",
       "      <td>2019-11-01T00:56:50.000</td>\n",
       "      <td>Petición de un posible BOT</td>\n",
       "      <td>1</td>\n",
       "      <td>-233953730499517940</td>\n",
       "      <td>RTVE</td>\n",
       "      <td>Android</td>\n",
       "      <td>7.0</td>\n",
       "      <td>Chrome Mobile</td>\n",
       "      <td>76.0.3809</td>\n",
       "      <td>...</td>\n",
       "      <td>RADIO-3</td>\n",
       "      <td>Música</td>\n",
       "      <td>1</td>\n",
       "      <td>NaN</td>\n",
       "      <td>NaN</td>\n",
       "      <td>NaN</td>\n",
       "      <td>NaN</td>\n",
       "      <td>90.0000, 0.0000</td>\n",
       "      <td>NaN</td>\n",
       "      <td>NaN</td>\n",
       "    </tr>\n",
       "  </tbody>\n",
       "</table>\n",
       "<p>5 rows × 28 columns</p>\n",
       "</div>"
      ],
      "text/plain": [
       "                                     id                     date  \\\n",
       "0  1a50eda4-26b1-47df-949d-4827665b79e3  2019-11-01T00:56:36.000   \n",
       "1  da19819a-3784-41ef-9ecd-67d6e4be37aa  2019-11-01T01:27:37.000   \n",
       "2  a60f41aa-6b3d-4fe9-bf9b-6311c57abfc1  2019-11-01T00:49:33.000   \n",
       "3  e85a8032-abad-48b4-9bd2-2765a4b730f4  2019-11-01T01:27:12.000   \n",
       "4  f3dabef8-f024-4f49-a04e-db6bbc1d5e2b  2019-11-01T00:56:50.000   \n",
       "\n",
       "                                      metric  value                 user  \\\n",
       "0            Número de descargas de tipo 206      1  6624207285322504776   \n",
       "1  Número de descargas parciales de tipo 200      1  1093782487219863411   \n",
       "2            Número de descargas de tipo 206      1 -3042089131472286197   \n",
       "3            Número de descargas de tipo 206      1 -5995978442346962145   \n",
       "4                 Petición de un posible BOT      1  -233953730499517940   \n",
       "\n",
       "  referer os_family os_version browser_family browser_version  ...  \\\n",
       "0     NaN   Android      6.0.1        Android           6.0.1  ...   \n",
       "1     NaN   Android      8.0.0        Android           8.0.0  ...   \n",
       "2    RTVE   Windows          7         Chrome       77.0.3865  ...   \n",
       "3     NaN   Android          9          Other             NaN  ...   \n",
       "4    RTVE   Android        7.0  Chrome Mobile       76.0.3809  ...   \n",
       "\n",
       "  podcast_permalink    podcast_topic entries_processed hostname  \\\n",
       "0    RADIO-NACIONAL     Informativos                 4      NaN   \n",
       "1    RADIO-NACIONAL     Informativos                21      NaN   \n",
       "2     RADIO-CLASICA           Música                 7      NaN   \n",
       "3    RADIO-NACIONAL  Entretenimiento                15      NaN   \n",
       "4           RADIO-3           Música                 1      NaN   \n",
       "\n",
       "                     city           region  country           location  \\\n",
       "0                Palencia  Castilla y León   España   42.0021, -4.5237   \n",
       "1                  Madrid           Madrid   España   40.4143, -3.7016   \n",
       "2     San Sebastián Tutla           Oaxaca   México  17.0645, -96.6705   \n",
       "3  La Matanza de Acentejo         Canarias   España  28.4524, -16.4472   \n",
       "4                     NaN              NaN      NaN    90.0000, 0.0000   \n",
       "\n",
       "  zip_code            time_zone  \n",
       "0    34004        Europe/Madrid  \n",
       "1    28021        Europe/Madrid  \n",
       "2    71242  America/Mexico_City  \n",
       "3    38370      Atlantic/Canary  \n",
       "4      NaN                  NaN  \n",
       "\n",
       "[5 rows x 28 columns]"
      ]
     },
     "execution_count": 2,
     "metadata": {},
     "output_type": "execute_result"
    }
   ],
   "source": [
    "datos.head()"
   ]
  },
  {
   "cell_type": "code",
   "execution_count": 3,
   "metadata": {},
   "outputs": [
    {
     "name": "stdout",
     "output_type": "stream",
     "text": [
      "<class 'pandas.core.frame.DataFrame'>\n",
      "RangeIndex: 10000 entries, 0 to 9999\n",
      "Data columns (total 28 columns):\n",
      " #   Column             Non-Null Count  Dtype  \n",
      "---  ------             --------------  -----  \n",
      " 0   id                 10000 non-null  object \n",
      " 1   date               10000 non-null  object \n",
      " 2   metric             10000 non-null  object \n",
      " 3   value              10000 non-null  int64  \n",
      " 4   user               10000 non-null  int64  \n",
      " 5   referer            5538 non-null   object \n",
      " 6   os_family          10000 non-null  object \n",
      " 7   os_version         9386 non-null   object \n",
      " 8   browser_family     10000 non-null  object \n",
      " 9   browser_version    7717 non-null   object \n",
      " 10  device_family      10000 non-null  object \n",
      " 11  device_brand       7675 non-null   object \n",
      " 12  device_model       7674 non-null   object \n",
      " 13  episode_file_path  10000 non-null  object \n",
      " 14  episode_file_size  10000 non-null  int64  \n",
      " 15  episode_title      9014 non-null   object \n",
      " 16  episode_duration   10000 non-null  int64  \n",
      " 17  podcast_title      8992 non-null   object \n",
      " 18  podcast_permalink  8992 non-null   object \n",
      " 19  podcast_topic      9014 non-null   object \n",
      " 20  entries_processed  10000 non-null  int64  \n",
      " 21  hostname           0 non-null      float64\n",
      " 22  city               5764 non-null   object \n",
      " 23  region             5996 non-null   object \n",
      " 24  country            6408 non-null   object \n",
      " 25  location           10000 non-null  object \n",
      " 26  zip_code           5678 non-null   object \n",
      " 27  time_zone          6410 non-null   object \n",
      "dtypes: float64(1), int64(5), object(22)\n",
      "memory usage: 2.1+ MB\n"
     ]
    }
   ],
   "source": [
    "datos.info()"
   ]
  },
  {
   "cell_type": "code",
   "execution_count": 4,
   "metadata": {},
   "outputs": [],
   "source": [
    "#Se eliminan las columnas con los datos que no son necesarios.\n",
    "Datos = datos.drop(['id', 'value', 'os_version', 'browser_version', 'device_brand', 'device_model', 'episode_file_size',  'entries_processed', 'hostname', 'location', 'zip_code'], axis=1)"
   ]
  },
  {
   "cell_type": "code",
   "execution_count": 5,
   "metadata": {},
   "outputs": [
    {
     "data": {
      "text/html": [
       "<div>\n",
       "<style scoped>\n",
       "    .dataframe tbody tr th:only-of-type {\n",
       "        vertical-align: middle;\n",
       "    }\n",
       "\n",
       "    .dataframe tbody tr th {\n",
       "        vertical-align: top;\n",
       "    }\n",
       "\n",
       "    .dataframe thead th {\n",
       "        text-align: right;\n",
       "    }\n",
       "</style>\n",
       "<table border=\"1\" class=\"dataframe\">\n",
       "  <thead>\n",
       "    <tr style=\"text-align: right;\">\n",
       "      <th></th>\n",
       "      <th>date</th>\n",
       "      <th>metric</th>\n",
       "      <th>user</th>\n",
       "      <th>referer</th>\n",
       "      <th>os_family</th>\n",
       "      <th>browser_family</th>\n",
       "      <th>device_family</th>\n",
       "      <th>episode_file_path</th>\n",
       "      <th>episode_title</th>\n",
       "      <th>episode_duration</th>\n",
       "      <th>podcast_title</th>\n",
       "      <th>podcast_permalink</th>\n",
       "      <th>podcast_topic</th>\n",
       "      <th>city</th>\n",
       "      <th>region</th>\n",
       "      <th>country</th>\n",
       "      <th>time_zone</th>\n",
       "    </tr>\n",
       "  </thead>\n",
       "  <tbody>\n",
       "    <tr>\n",
       "      <th>0</th>\n",
       "      <td>2019-11-01T00:56:36.000</td>\n",
       "      <td>Número de descargas de tipo 206</td>\n",
       "      <td>6624207285322504776</td>\n",
       "      <td>NaN</td>\n",
       "      <td>Android</td>\n",
       "      <td>Android</td>\n",
       "      <td>Smartphone</td>\n",
       "      <td>1572564777864.mp3</td>\n",
       "      <td>Análisis de la información - 31/10/19</td>\n",
       "      <td>4674885</td>\n",
       "      <td>24 horas</td>\n",
       "      <td>RADIO-NACIONAL</td>\n",
       "      <td>Informativos</td>\n",
       "      <td>Palencia</td>\n",
       "      <td>Castilla y León</td>\n",
       "      <td>España</td>\n",
       "      <td>Europe/Madrid</td>\n",
       "    </tr>\n",
       "    <tr>\n",
       "      <th>1</th>\n",
       "      <td>2019-11-01T01:27:37.000</td>\n",
       "      <td>Número de descargas parciales de tipo 200</td>\n",
       "      <td>1093782487219863411</td>\n",
       "      <td>NaN</td>\n",
       "      <td>Android</td>\n",
       "      <td>Android</td>\n",
       "      <td>Smartphone</td>\n",
       "      <td>1572564777864.mp3</td>\n",
       "      <td>Análisis de la información - 31/10/19</td>\n",
       "      <td>4674885</td>\n",
       "      <td>24 horas</td>\n",
       "      <td>RADIO-NACIONAL</td>\n",
       "      <td>Informativos</td>\n",
       "      <td>Madrid</td>\n",
       "      <td>Madrid</td>\n",
       "      <td>España</td>\n",
       "      <td>Europe/Madrid</td>\n",
       "    </tr>\n",
       "    <tr>\n",
       "      <th>2</th>\n",
       "      <td>2019-11-01T00:49:33.000</td>\n",
       "      <td>Número de descargas de tipo 206</td>\n",
       "      <td>-3042089131472286197</td>\n",
       "      <td>RTVE</td>\n",
       "      <td>Windows</td>\n",
       "      <td>Chrome</td>\n",
       "      <td>Dispositivo no registrado</td>\n",
       "      <td>1572524596000.mp3</td>\n",
       "      <td>A través de un espejo - 31/10/19</td>\n",
       "      <td>3513239</td>\n",
       "      <td>A través de un espejo</td>\n",
       "      <td>RADIO-CLASICA</td>\n",
       "      <td>Música</td>\n",
       "      <td>San Sebastián Tutla</td>\n",
       "      <td>Oaxaca</td>\n",
       "      <td>México</td>\n",
       "      <td>America/Mexico_City</td>\n",
       "    </tr>\n",
       "    <tr>\n",
       "      <th>3</th>\n",
       "      <td>2019-11-01T01:27:12.000</td>\n",
       "      <td>Número de descargas de tipo 206</td>\n",
       "      <td>-5995978442346962145</td>\n",
       "      <td>NaN</td>\n",
       "      <td>Android</td>\n",
       "      <td>Other</td>\n",
       "      <td>Smartphone</td>\n",
       "      <td>1572175203168.mp3</td>\n",
       "      <td>Encuentros con la vida después de la vida</td>\n",
       "      <td>3201395</td>\n",
       "      <td>Espacio en blanco</td>\n",
       "      <td>RADIO-NACIONAL</td>\n",
       "      <td>Entretenimiento</td>\n",
       "      <td>La Matanza de Acentejo</td>\n",
       "      <td>Canarias</td>\n",
       "      <td>España</td>\n",
       "      <td>Atlantic/Canary</td>\n",
       "    </tr>\n",
       "    <tr>\n",
       "      <th>4</th>\n",
       "      <td>2019-11-01T00:56:50.000</td>\n",
       "      <td>Petición de un posible BOT</td>\n",
       "      <td>-233953730499517940</td>\n",
       "      <td>RTVE</td>\n",
       "      <td>Android</td>\n",
       "      <td>Chrome Mobile</td>\n",
       "      <td>Dispositivo no registrado</td>\n",
       "      <td>1571416123127.mp3</td>\n",
       "      <td>Sueño con la tolerancia (1ª parte)</td>\n",
       "      <td>3536124</td>\n",
       "      <td>Videodrome</td>\n",
       "      <td>RADIO-3</td>\n",
       "      <td>Música</td>\n",
       "      <td>NaN</td>\n",
       "      <td>NaN</td>\n",
       "      <td>NaN</td>\n",
       "      <td>NaN</td>\n",
       "    </tr>\n",
       "  </tbody>\n",
       "</table>\n",
       "</div>"
      ],
      "text/plain": [
       "                      date                                     metric  \\\n",
       "0  2019-11-01T00:56:36.000            Número de descargas de tipo 206   \n",
       "1  2019-11-01T01:27:37.000  Número de descargas parciales de tipo 200   \n",
       "2  2019-11-01T00:49:33.000            Número de descargas de tipo 206   \n",
       "3  2019-11-01T01:27:12.000            Número de descargas de tipo 206   \n",
       "4  2019-11-01T00:56:50.000                 Petición de un posible BOT   \n",
       "\n",
       "                  user referer os_family browser_family  \\\n",
       "0  6624207285322504776     NaN   Android        Android   \n",
       "1  1093782487219863411     NaN   Android        Android   \n",
       "2 -3042089131472286197    RTVE   Windows         Chrome   \n",
       "3 -5995978442346962145     NaN   Android          Other   \n",
       "4  -233953730499517940    RTVE   Android  Chrome Mobile   \n",
       "\n",
       "               device_family  episode_file_path  \\\n",
       "0                 Smartphone  1572564777864.mp3   \n",
       "1                 Smartphone  1572564777864.mp3   \n",
       "2  Dispositivo no registrado  1572524596000.mp3   \n",
       "3                 Smartphone  1572175203168.mp3   \n",
       "4  Dispositivo no registrado  1571416123127.mp3   \n",
       "\n",
       "                               episode_title  episode_duration  \\\n",
       "0     Análisis de la información - 31/10/19            4674885   \n",
       "1     Análisis de la información - 31/10/19            4674885   \n",
       "2          A través de un espejo - 31/10/19            3513239   \n",
       "3  Encuentros con la vida después de la vida           3201395   \n",
       "4         Sueño con la tolerancia (1ª parte)           3536124   \n",
       "\n",
       "           podcast_title podcast_permalink    podcast_topic  \\\n",
       "0               24 horas    RADIO-NACIONAL     Informativos   \n",
       "1               24 horas    RADIO-NACIONAL     Informativos   \n",
       "2  A través de un espejo     RADIO-CLASICA           Música   \n",
       "3      Espacio en blanco    RADIO-NACIONAL  Entretenimiento   \n",
       "4             Videodrome           RADIO-3           Música   \n",
       "\n",
       "                     city           region country            time_zone  \n",
       "0                Palencia  Castilla y León  España        Europe/Madrid  \n",
       "1                  Madrid           Madrid  España        Europe/Madrid  \n",
       "2     San Sebastián Tutla           Oaxaca  México  America/Mexico_City  \n",
       "3  La Matanza de Acentejo         Canarias  España      Atlantic/Canary  \n",
       "4                     NaN              NaN     NaN                  NaN  "
      ]
     },
     "execution_count": 5,
     "metadata": {},
     "output_type": "execute_result"
    }
   ],
   "source": [
    "Datos.head()"
   ]
  },
  {
   "cell_type": "code",
   "execution_count": 6,
   "metadata": {},
   "outputs": [
    {
     "data": {
      "text/plain": [
       "(10000, 17)"
      ]
     },
     "execution_count": 6,
     "metadata": {},
     "output_type": "execute_result"
    }
   ],
   "source": [
    "Datos.shape"
   ]
  },
  {
   "cell_type": "code",
   "execution_count": 7,
   "metadata": {},
   "outputs": [
    {
     "data": {
      "text/plain": [
       "Música                        4426\n",
       "Magacín                       1473\n",
       "Informativos                  1139\n",
       "NaN                            986\n",
       "Entretenimiento                841\n",
       "Cultura                        269\n",
       "Documentales                   268\n",
       "Servicio público               118\n",
       "Archivo RNE                    111\n",
       "Ciencia y Tecnología            99\n",
       "Informativos territoriales      59\n",
       "Deportes                        58\n",
       "Viajes                          48\n",
       "RNE solo en Podcast             36\n",
       "Educación                       24\n",
       "Infantiles                      14\n",
       "Cine                            13\n",
       "Recetas                         12\n",
       "R                                3\n",
       "Series                           2\n",
       "20 aniversario de Radio 5        1\n",
       "Name: podcast_topic, dtype: int64"
      ]
     },
     "execution_count": 7,
     "metadata": {},
     "output_type": "execute_result"
    }
   ],
   "source": [
    "#Temática de los podcast\n",
    "Datos['podcast_topic'].value_counts(dropna=False)"
   ]
  },
  {
   "cell_type": "code",
   "execution_count": 8,
   "metadata": {},
   "outputs": [
    {
     "data": {
      "text/plain": [
       "Número de descargas de tipo 206              3841\n",
       "Petición de tipo HEAD                        3216\n",
       "Número de descargas parciales de tipo 206    1262\n",
       "Número de descargas parciales de tipo 200    1103\n",
       "Petición no 200 o 206                         340\n",
       "Número de descargas de tipo 200               204\n",
       "Petición de un posible BOT                     17\n",
       "Petición de un recurso no MP3                  17\n",
       "Name: metric, dtype: int64"
      ]
     },
     "execution_count": 8,
     "metadata": {},
     "output_type": "execute_result"
    }
   ],
   "source": [
    "Datos['metric'].value_counts(dropna=False)"
   ]
  },
  {
   "cell_type": "code",
   "execution_count": 9,
   "metadata": {},
   "outputs": [],
   "source": [
    "#Se eliminan los datos que no sean de tipo 206, 200 o descargas parciales.No son interesantes para el análisis.\n",
    "Datos = Datos[Datos.metric.isin(['Número de descargas de tipo 206', 'Número de descargas parciales de tipo 206', 'Número de descargas parciales de tipo 200','Número de descargas de tipo 200' ])]"
   ]
  },
  {
   "cell_type": "code",
   "execution_count": 10,
   "metadata": {},
   "outputs": [
    {
     "data": {
      "text/plain": [
       "0                 Número de descargas de tipo 206\n",
       "1       Número de descargas parciales de tipo 200\n",
       "2                 Número de descargas de tipo 206\n",
       "3                 Número de descargas de tipo 206\n",
       "5       Número de descargas parciales de tipo 206\n",
       "                          ...                    \n",
       "9994              Número de descargas de tipo 206\n",
       "9995    Número de descargas parciales de tipo 206\n",
       "9997    Número de descargas parciales de tipo 200\n",
       "9998              Número de descargas de tipo 206\n",
       "9999              Número de descargas de tipo 206\n",
       "Name: metric, Length: 6410, dtype: object"
      ]
     },
     "execution_count": 10,
     "metadata": {},
     "output_type": "execute_result"
    }
   ],
   "source": [
    "Datos.metric"
   ]
  },
  {
   "cell_type": "code",
   "execution_count": 11,
   "metadata": {},
   "outputs": [
    {
     "data": {
      "text/plain": [
       "Número de descargas de tipo 206              3841\n",
       "Número de descargas parciales de tipo 206    1262\n",
       "Número de descargas parciales de tipo 200    1103\n",
       "Número de descargas de tipo 200               204\n",
       "Name: metric, dtype: int64"
      ]
     },
     "execution_count": 11,
     "metadata": {},
     "output_type": "execute_result"
    }
   ],
   "source": [
    "Datos['metric'].value_counts(dropna=False)"
   ]
  },
  {
   "cell_type": "code",
   "execution_count": 12,
   "metadata": {},
   "outputs": [
    {
     "data": {
      "text/html": [
       "<div>\n",
       "<style scoped>\n",
       "    .dataframe tbody tr th:only-of-type {\n",
       "        vertical-align: middle;\n",
       "    }\n",
       "\n",
       "    .dataframe tbody tr th {\n",
       "        vertical-align: top;\n",
       "    }\n",
       "\n",
       "    .dataframe thead th {\n",
       "        text-align: right;\n",
       "    }\n",
       "</style>\n",
       "<table border=\"1\" class=\"dataframe\">\n",
       "  <thead>\n",
       "    <tr style=\"text-align: right;\">\n",
       "      <th></th>\n",
       "      <th>date</th>\n",
       "      <th>metric</th>\n",
       "      <th>user</th>\n",
       "      <th>referer</th>\n",
       "      <th>os_family</th>\n",
       "      <th>browser_family</th>\n",
       "      <th>device_family</th>\n",
       "      <th>episode_file_path</th>\n",
       "      <th>episode_title</th>\n",
       "      <th>episode_duration</th>\n",
       "      <th>podcast_title</th>\n",
       "      <th>podcast_permalink</th>\n",
       "      <th>podcast_topic</th>\n",
       "      <th>city</th>\n",
       "      <th>region</th>\n",
       "      <th>country</th>\n",
       "      <th>time_zone</th>\n",
       "    </tr>\n",
       "  </thead>\n",
       "  <tbody>\n",
       "    <tr>\n",
       "      <th>0</th>\n",
       "      <td>2019-11-01T00:56:36.000</td>\n",
       "      <td>Número de descargas de tipo 206</td>\n",
       "      <td>6624207285322504776</td>\n",
       "      <td>NaN</td>\n",
       "      <td>Android</td>\n",
       "      <td>Android</td>\n",
       "      <td>Smartphone</td>\n",
       "      <td>1572564777864.mp3</td>\n",
       "      <td>Análisis de la información - 31/10/19</td>\n",
       "      <td>4674885</td>\n",
       "      <td>24 horas</td>\n",
       "      <td>RADIO-NACIONAL</td>\n",
       "      <td>Informativos</td>\n",
       "      <td>Palencia</td>\n",
       "      <td>Castilla y León</td>\n",
       "      <td>España</td>\n",
       "      <td>Europe/Madrid</td>\n",
       "    </tr>\n",
       "    <tr>\n",
       "      <th>1</th>\n",
       "      <td>2019-11-01T01:27:37.000</td>\n",
       "      <td>Número de descargas parciales de tipo 200</td>\n",
       "      <td>1093782487219863411</td>\n",
       "      <td>NaN</td>\n",
       "      <td>Android</td>\n",
       "      <td>Android</td>\n",
       "      <td>Smartphone</td>\n",
       "      <td>1572564777864.mp3</td>\n",
       "      <td>Análisis de la información - 31/10/19</td>\n",
       "      <td>4674885</td>\n",
       "      <td>24 horas</td>\n",
       "      <td>RADIO-NACIONAL</td>\n",
       "      <td>Informativos</td>\n",
       "      <td>Madrid</td>\n",
       "      <td>Madrid</td>\n",
       "      <td>España</td>\n",
       "      <td>Europe/Madrid</td>\n",
       "    </tr>\n",
       "  </tbody>\n",
       "</table>\n",
       "</div>"
      ],
      "text/plain": [
       "                      date                                     metric  \\\n",
       "0  2019-11-01T00:56:36.000            Número de descargas de tipo 206   \n",
       "1  2019-11-01T01:27:37.000  Número de descargas parciales de tipo 200   \n",
       "\n",
       "                  user referer os_family browser_family device_family  \\\n",
       "0  6624207285322504776     NaN   Android        Android    Smartphone   \n",
       "1  1093782487219863411     NaN   Android        Android    Smartphone   \n",
       "\n",
       "   episode_file_path                           episode_title  \\\n",
       "0  1572564777864.mp3  Análisis de la información - 31/10/19    \n",
       "1  1572564777864.mp3  Análisis de la información - 31/10/19    \n",
       "\n",
       "   episode_duration podcast_title podcast_permalink podcast_topic      city  \\\n",
       "0           4674885      24 horas    RADIO-NACIONAL  Informativos  Palencia   \n",
       "1           4674885      24 horas    RADIO-NACIONAL  Informativos    Madrid   \n",
       "\n",
       "            region country      time_zone  \n",
       "0  Castilla y León  España  Europe/Madrid  \n",
       "1           Madrid  España  Europe/Madrid  "
      ]
     },
     "execution_count": 12,
     "metadata": {},
     "output_type": "execute_result"
    }
   ],
   "source": [
    "Datos.head(2)"
   ]
  },
  {
   "cell_type": "code",
   "execution_count": 13,
   "metadata": {},
   "outputs": [
    {
     "data": {
      "text/plain": [
       "-4651496039380642881    12\n",
       " 496082641842722391     10\n",
       " 6069712137940548831     8\n",
       "-375875986833972032      6\n",
       " 3413815924711635741     6\n",
       "                        ..\n",
       " 8644027351722851357     1\n",
       " 2057006852284194053     1\n",
       " 4371379861329096179     1\n",
       " 2243197504190468777     1\n",
       " 5733484840755179275     1\n",
       "Name: user, Length: 5390, dtype: int64"
      ]
     },
     "execution_count": 13,
     "metadata": {},
     "output_type": "execute_result"
    }
   ],
   "source": [
    "Datos['user'].value_counts(dropna=False)"
   ]
  },
  {
   "cell_type": "code",
   "execution_count": 14,
   "metadata": {},
   "outputs": [
    {
     "data": {
      "text/plain": [
       "RADIO-NACIONAL    2421\n",
       "RADIO-3           2177\n",
       "RADIO-CLASICA      809\n",
       "NaN                610\n",
       "RADIO-5            271\n",
       "RADIO-EXTERIOR     100\n",
       "RADIO-4             21\n",
       "LA1                  1\n",
       "Name: podcast_permalink, dtype: int64"
      ]
     },
     "execution_count": 14,
     "metadata": {},
     "output_type": "execute_result"
    }
   ],
   "source": [
    "Datos['podcast_permalink'].value_counts(dropna=False)"
   ]
  },
  {
   "cell_type": "code",
   "execution_count": 15,
   "metadata": {},
   "outputs": [
    {
     "data": {
      "text/plain": [
       "NaN                                      610\n",
       "Las mañanas de RNE con Pepa Fernández    533\n",
       "Espacio en blanco                        527\n",
       "Las mañanas de RNE con Íñigo Alfonso     243\n",
       "Hoy empieza todo con Ángel Carmona       210\n",
       "                                        ... \n",
       "Los clásicos                               1\n",
       "Maestros cantores                          1\n",
       "Todo a cappella                            1\n",
       "Respuestas de la Ciencia                   1\n",
       "El flamenco en R5                          1\n",
       "Name: podcast_title, Length: 367, dtype: int64"
      ]
     },
     "execution_count": 15,
     "metadata": {},
     "output_type": "execute_result"
    }
   ],
   "source": [
    "Datos['podcast_title'].value_counts(dropna=False)"
   ]
  },
  {
   "cell_type": "code",
   "execution_count": 16,
   "metadata": {},
   "outputs": [],
   "source": [
    "#Se eliminan los datos cuya duración del episodio es 0.\n",
    "Datos= Datos[Datos.episode_duration!=0]"
   ]
  },
  {
   "cell_type": "code",
   "execution_count": 17,
   "metadata": {},
   "outputs": [
    {
     "data": {
      "text/plain": [
       "Las mañanas de RNE con Pepa Fernández    533\n",
       "Espacio en blanco                        526\n",
       "Las mañanas de RNE con Íñigo Alfonso     243\n",
       "Hoy empieza todo con Ángel Carmona       210\n",
       "180 grados                               206\n",
       "                                        ... \n",
       "Canciones recomendadas                     1\n",
       "De cine                                    1\n",
       "Sangre sobre la tierra                     1\n",
       "Tablero deportivo                          1\n",
       "Mamás y papás                              1\n",
       "Name: podcast_title, Length: 366, dtype: int64"
      ]
     },
     "execution_count": 17,
     "metadata": {},
     "output_type": "execute_result"
    }
   ],
   "source": [
    "Datos['podcast_title'].value_counts(dropna=False)"
   ]
  },
  {
   "cell_type": "code",
   "execution_count": 18,
   "metadata": {},
   "outputs": [
    {
     "data": {
      "text/html": [
       "<div>\n",
       "<style scoped>\n",
       "    .dataframe tbody tr th:only-of-type {\n",
       "        vertical-align: middle;\n",
       "    }\n",
       "\n",
       "    .dataframe tbody tr th {\n",
       "        vertical-align: top;\n",
       "    }\n",
       "\n",
       "    .dataframe thead th {\n",
       "        text-align: right;\n",
       "    }\n",
       "</style>\n",
       "<table border=\"1\" class=\"dataframe\">\n",
       "  <thead>\n",
       "    <tr style=\"text-align: right;\">\n",
       "      <th></th>\n",
       "      <th>date</th>\n",
       "      <th>metric</th>\n",
       "      <th>user</th>\n",
       "      <th>referer</th>\n",
       "      <th>os_family</th>\n",
       "      <th>browser_family</th>\n",
       "      <th>device_family</th>\n",
       "      <th>episode_file_path</th>\n",
       "      <th>episode_title</th>\n",
       "      <th>episode_duration</th>\n",
       "      <th>podcast_title</th>\n",
       "      <th>podcast_permalink</th>\n",
       "      <th>podcast_topic</th>\n",
       "      <th>city</th>\n",
       "      <th>region</th>\n",
       "      <th>country</th>\n",
       "      <th>time_zone</th>\n",
       "    </tr>\n",
       "  </thead>\n",
       "  <tbody>\n",
       "    <tr>\n",
       "      <th>2642</th>\n",
       "      <td>2019-11-01T14:39:26.000</td>\n",
       "      <td>Número de descargas parciales de tipo 206</td>\n",
       "      <td>-4651496039380642881</td>\n",
       "      <td>RTVE</td>\n",
       "      <td>Mac OS X</td>\n",
       "      <td>Safari</td>\n",
       "      <td>PC</td>\n",
       "      <td>1571740911874.mp3</td>\n",
       "      <td>Cicloturismo, ocio y deporte para disfrutar en...</td>\n",
       "      <td>1553018</td>\n",
       "      <td>En clave Turismo</td>\n",
       "      <td>RADIO-EXTERIOR</td>\n",
       "      <td>Viajes</td>\n",
       "      <td>Alcorcón</td>\n",
       "      <td>Madrid</td>\n",
       "      <td>España</td>\n",
       "      <td>Europe/Madrid</td>\n",
       "    </tr>\n",
       "    <tr>\n",
       "      <th>2644</th>\n",
       "      <td>2019-11-01T14:07:39.000</td>\n",
       "      <td>Número de descargas de tipo 206</td>\n",
       "      <td>-4651496039380642881</td>\n",
       "      <td>RTVE</td>\n",
       "      <td>Mac OS X</td>\n",
       "      <td>Safari</td>\n",
       "      <td>PC</td>\n",
       "      <td>1572259011860.mp3</td>\n",
       "      <td>¿\"vertir\" o \"verter\"?</td>\n",
       "      <td>320287</td>\n",
       "      <td>El español urgente con Fundéu</td>\n",
       "      <td>RADIO-5</td>\n",
       "      <td>Cultura</td>\n",
       "      <td>Alcorcón</td>\n",
       "      <td>Madrid</td>\n",
       "      <td>España</td>\n",
       "      <td>Europe/Madrid</td>\n",
       "    </tr>\n",
       "    <tr>\n",
       "      <th>2845</th>\n",
       "      <td>2019-11-01T14:46:07.000</td>\n",
       "      <td>Número de descargas parciales de tipo 206</td>\n",
       "      <td>-4651496039380642881</td>\n",
       "      <td>RTVE</td>\n",
       "      <td>Mac OS X</td>\n",
       "      <td>Safari</td>\n",
       "      <td>PC</td>\n",
       "      <td>1568585517517.mp3</td>\n",
       "      <td>Edurne Pasaban</td>\n",
       "      <td>1805150</td>\n",
       "      <td>La observadora</td>\n",
       "      <td>RADIO-NACIONAL</td>\n",
       "      <td>Entretenimiento</td>\n",
       "      <td>Alcorcón</td>\n",
       "      <td>Madrid</td>\n",
       "      <td>España</td>\n",
       "      <td>Europe/Madrid</td>\n",
       "    </tr>\n",
       "    <tr>\n",
       "      <th>7461</th>\n",
       "      <td>2019-11-01T08:49:26.000</td>\n",
       "      <td>Número de descargas de tipo 206</td>\n",
       "      <td>-4651496039380642881</td>\n",
       "      <td>RTVE</td>\n",
       "      <td>Mac OS X</td>\n",
       "      <td>Safari</td>\n",
       "      <td>PC</td>\n",
       "      <td>1544616479193.mp3</td>\n",
       "      <td>Empresa española desarrolla con éxito el jugue...</td>\n",
       "      <td>1779794</td>\n",
       "      <td>A golpe de bit</td>\n",
       "      <td>RADIO-EXTERIOR</td>\n",
       "      <td>Ciencia y Tecnología</td>\n",
       "      <td>Alcorcón</td>\n",
       "      <td>Madrid</td>\n",
       "      <td>España</td>\n",
       "      <td>Europe/Madrid</td>\n",
       "    </tr>\n",
       "    <tr>\n",
       "      <th>7504</th>\n",
       "      <td>2019-11-01T08:50:26.000</td>\n",
       "      <td>Número de descargas de tipo 206</td>\n",
       "      <td>-4651496039380642881</td>\n",
       "      <td>RTVE</td>\n",
       "      <td>Mac OS X</td>\n",
       "      <td>Safari</td>\n",
       "      <td>PC</td>\n",
       "      <td>1542627318580.mp3</td>\n",
       "      <td>Octava edición de Big Data</td>\n",
       "      <td>1810931</td>\n",
       "      <td>A golpe de bit</td>\n",
       "      <td>RADIO-EXTERIOR</td>\n",
       "      <td>Ciencia y Tecnología</td>\n",
       "      <td>Alcorcón</td>\n",
       "      <td>Madrid</td>\n",
       "      <td>España</td>\n",
       "      <td>Europe/Madrid</td>\n",
       "    </tr>\n",
       "    <tr>\n",
       "      <th>7528</th>\n",
       "      <td>2019-11-01T09:07:40.000</td>\n",
       "      <td>Número de descargas parciales de tipo 206</td>\n",
       "      <td>-4651496039380642881</td>\n",
       "      <td>RTVE</td>\n",
       "      <td>Mac OS X</td>\n",
       "      <td>Safari</td>\n",
       "      <td>PC</td>\n",
       "      <td>1559041754785.mp3</td>\n",
       "      <td>¿Cómo deberíamos prepararnos para la robotizac...</td>\n",
       "      <td>1805883</td>\n",
       "      <td>A golpe de bit</td>\n",
       "      <td>RADIO-EXTERIOR</td>\n",
       "      <td>Ciencia y Tecnología</td>\n",
       "      <td>Alcorcón</td>\n",
       "      <td>Madrid</td>\n",
       "      <td>España</td>\n",
       "      <td>Europe/Madrid</td>\n",
       "    </tr>\n",
       "    <tr>\n",
       "      <th>7585</th>\n",
       "      <td>2019-11-01T08:51:20.000</td>\n",
       "      <td>Número de descargas parciales de tipo 206</td>\n",
       "      <td>-4651496039380642881</td>\n",
       "      <td>RTVE</td>\n",
       "      <td>Mac OS X</td>\n",
       "      <td>Safari</td>\n",
       "      <td>PC</td>\n",
       "      <td>1541071703720.mp3</td>\n",
       "      <td>Encuesta de percepción social de la innovación...</td>\n",
       "      <td>1805889</td>\n",
       "      <td>A golpe de bit</td>\n",
       "      <td>RADIO-EXTERIOR</td>\n",
       "      <td>Ciencia y Tecnología</td>\n",
       "      <td>Alcorcón</td>\n",
       "      <td>Madrid</td>\n",
       "      <td>España</td>\n",
       "      <td>Europe/Madrid</td>\n",
       "    </tr>\n",
       "    <tr>\n",
       "      <th>7887</th>\n",
       "      <td>2019-11-01T09:15:16.000</td>\n",
       "      <td>Número de descargas parciales de tipo 206</td>\n",
       "      <td>-4651496039380642881</td>\n",
       "      <td>RTVE</td>\n",
       "      <td>Mac OS X</td>\n",
       "      <td>Safari</td>\n",
       "      <td>PC</td>\n",
       "      <td>1572546538547.mp3</td>\n",
       "      <td>Las mejores ciudades del mundo para ser niño</td>\n",
       "      <td>1686765</td>\n",
       "      <td>Por tres razones</td>\n",
       "      <td>RADIO-NACIONAL</td>\n",
       "      <td>Informativos</td>\n",
       "      <td>Alcorcón</td>\n",
       "      <td>Madrid</td>\n",
       "      <td>España</td>\n",
       "      <td>Europe/Madrid</td>\n",
       "    </tr>\n",
       "    <tr>\n",
       "      <th>8243</th>\n",
       "      <td>2019-11-01T11:12:18.000</td>\n",
       "      <td>Número de descargas de tipo 206</td>\n",
       "      <td>-4651496039380642881</td>\n",
       "      <td>RTVE</td>\n",
       "      <td>Mac OS X</td>\n",
       "      <td>Safari</td>\n",
       "      <td>PC</td>\n",
       "      <td>1537379824544.mp3</td>\n",
       "      <td>¿Padres sin estudios igual a hijos sin estudios?</td>\n",
       "      <td>1616162</td>\n",
       "      <td>Por tres razones</td>\n",
       "      <td>RADIO-NACIONAL</td>\n",
       "      <td>Informativos</td>\n",
       "      <td>Alcorcón</td>\n",
       "      <td>Madrid</td>\n",
       "      <td>España</td>\n",
       "      <td>Europe/Madrid</td>\n",
       "    </tr>\n",
       "    <tr>\n",
       "      <th>8633</th>\n",
       "      <td>2019-11-01T11:27:02.000</td>\n",
       "      <td>Número de descargas de tipo 206</td>\n",
       "      <td>-4651496039380642881</td>\n",
       "      <td>RTVE</td>\n",
       "      <td>Mac OS X</td>\n",
       "      <td>Safari</td>\n",
       "      <td>PC</td>\n",
       "      <td>1571509616605.mp3</td>\n",
       "      <td>El festival sobre progreso sostenibile de Mad...</td>\n",
       "      <td>1536383</td>\n",
       "      <td>Artesfera en Radio 5</td>\n",
       "      <td>RADIO-5</td>\n",
       "      <td>Cultura</td>\n",
       "      <td>Alcorcón</td>\n",
       "      <td>Madrid</td>\n",
       "      <td>España</td>\n",
       "      <td>Europe/Madrid</td>\n",
       "    </tr>\n",
       "    <tr>\n",
       "      <th>9631</th>\n",
       "      <td>2019-11-01T13:40:19.000</td>\n",
       "      <td>Número de descargas de tipo 206</td>\n",
       "      <td>-4651496039380642881</td>\n",
       "      <td>RTVE</td>\n",
       "      <td>Mac OS X</td>\n",
       "      <td>Safari</td>\n",
       "      <td>PC</td>\n",
       "      <td>1570360932293.mp3</td>\n",
       "      <td>Leticia Ruiz cuenta la historia de dos pintoras</td>\n",
       "      <td>651232</td>\n",
       "      <td>Cuéntame un cuadro</td>\n",
       "      <td>RADIO-5</td>\n",
       "      <td>Cultura</td>\n",
       "      <td>Alcorcón</td>\n",
       "      <td>Madrid</td>\n",
       "      <td>España</td>\n",
       "      <td>Europe/Madrid</td>\n",
       "    </tr>\n",
       "  </tbody>\n",
       "</table>\n",
       "</div>"
      ],
      "text/plain": [
       "                         date                                     metric  \\\n",
       "2642  2019-11-01T14:39:26.000  Número de descargas parciales de tipo 206   \n",
       "2644  2019-11-01T14:07:39.000            Número de descargas de tipo 206   \n",
       "2845  2019-11-01T14:46:07.000  Número de descargas parciales de tipo 206   \n",
       "7461  2019-11-01T08:49:26.000            Número de descargas de tipo 206   \n",
       "7504  2019-11-01T08:50:26.000            Número de descargas de tipo 206   \n",
       "7528  2019-11-01T09:07:40.000  Número de descargas parciales de tipo 206   \n",
       "7585  2019-11-01T08:51:20.000  Número de descargas parciales de tipo 206   \n",
       "7887  2019-11-01T09:15:16.000  Número de descargas parciales de tipo 206   \n",
       "8243  2019-11-01T11:12:18.000            Número de descargas de tipo 206   \n",
       "8633  2019-11-01T11:27:02.000            Número de descargas de tipo 206   \n",
       "9631  2019-11-01T13:40:19.000            Número de descargas de tipo 206   \n",
       "\n",
       "                     user referer os_family browser_family device_family  \\\n",
       "2642 -4651496039380642881    RTVE  Mac OS X         Safari            PC   \n",
       "2644 -4651496039380642881    RTVE  Mac OS X         Safari            PC   \n",
       "2845 -4651496039380642881    RTVE  Mac OS X         Safari            PC   \n",
       "7461 -4651496039380642881    RTVE  Mac OS X         Safari            PC   \n",
       "7504 -4651496039380642881    RTVE  Mac OS X         Safari            PC   \n",
       "7528 -4651496039380642881    RTVE  Mac OS X         Safari            PC   \n",
       "7585 -4651496039380642881    RTVE  Mac OS X         Safari            PC   \n",
       "7887 -4651496039380642881    RTVE  Mac OS X         Safari            PC   \n",
       "8243 -4651496039380642881    RTVE  Mac OS X         Safari            PC   \n",
       "8633 -4651496039380642881    RTVE  Mac OS X         Safari            PC   \n",
       "9631 -4651496039380642881    RTVE  Mac OS X         Safari            PC   \n",
       "\n",
       "      episode_file_path                                      episode_title  \\\n",
       "2642  1571740911874.mp3  Cicloturismo, ocio y deporte para disfrutar en...   \n",
       "2644  1572259011860.mp3                              ¿\"vertir\" o \"verter\"?   \n",
       "2845  1568585517517.mp3                                     Edurne Pasaban   \n",
       "7461  1544616479193.mp3  Empresa española desarrolla con éxito el jugue...   \n",
       "7504  1542627318580.mp3                        Octava edición de Big Data    \n",
       "7528  1559041754785.mp3  ¿Cómo deberíamos prepararnos para la robotizac...   \n",
       "7585  1541071703720.mp3  Encuesta de percepción social de la innovación...   \n",
       "7887  1572546538547.mp3       Las mejores ciudades del mundo para ser niño   \n",
       "8243  1537379824544.mp3   ¿Padres sin estudios igual a hijos sin estudios?   \n",
       "8633  1571509616605.mp3   El festival sobre progreso sostenibile de Mad...   \n",
       "9631  1570360932293.mp3    Leticia Ruiz cuenta la historia de dos pintoras   \n",
       "\n",
       "      episode_duration                   podcast_title podcast_permalink  \\\n",
       "2642           1553018               En clave Turismo     RADIO-EXTERIOR   \n",
       "2644            320287  El español urgente con Fundéu            RADIO-5   \n",
       "2845           1805150                  La observadora    RADIO-NACIONAL   \n",
       "7461           1779794                  A golpe de bit    RADIO-EXTERIOR   \n",
       "7504           1810931                  A golpe de bit    RADIO-EXTERIOR   \n",
       "7528           1805883                  A golpe de bit    RADIO-EXTERIOR   \n",
       "7585           1805889                  A golpe de bit    RADIO-EXTERIOR   \n",
       "7887           1686765                Por tres razones    RADIO-NACIONAL   \n",
       "8243           1616162                Por tres razones    RADIO-NACIONAL   \n",
       "8633           1536383            Artesfera en Radio 5           RADIO-5   \n",
       "9631            651232              Cuéntame un cuadro           RADIO-5   \n",
       "\n",
       "             podcast_topic      city  region country      time_zone  \n",
       "2642                Viajes  Alcorcón  Madrid  España  Europe/Madrid  \n",
       "2644               Cultura  Alcorcón  Madrid  España  Europe/Madrid  \n",
       "2845       Entretenimiento  Alcorcón  Madrid  España  Europe/Madrid  \n",
       "7461  Ciencia y Tecnología  Alcorcón  Madrid  España  Europe/Madrid  \n",
       "7504  Ciencia y Tecnología  Alcorcón  Madrid  España  Europe/Madrid  \n",
       "7528  Ciencia y Tecnología  Alcorcón  Madrid  España  Europe/Madrid  \n",
       "7585  Ciencia y Tecnología  Alcorcón  Madrid  España  Europe/Madrid  \n",
       "7887          Informativos  Alcorcón  Madrid  España  Europe/Madrid  \n",
       "8243          Informativos  Alcorcón  Madrid  España  Europe/Madrid  \n",
       "8633               Cultura  Alcorcón  Madrid  España  Europe/Madrid  \n",
       "9631               Cultura  Alcorcón  Madrid  España  Europe/Madrid  "
      ]
     },
     "execution_count": 18,
     "metadata": {},
     "output_type": "execute_result"
    }
   ],
   "source": [
    "Datos[Datos.user == -4651496039380642881]"
   ]
  },
  {
   "cell_type": "code",
   "execution_count": 19,
   "metadata": {},
   "outputs": [
    {
     "data": {
      "text/html": [
       "<div>\n",
       "<style scoped>\n",
       "    .dataframe tbody tr th:only-of-type {\n",
       "        vertical-align: middle;\n",
       "    }\n",
       "\n",
       "    .dataframe tbody tr th {\n",
       "        vertical-align: top;\n",
       "    }\n",
       "\n",
       "    .dataframe thead th {\n",
       "        text-align: right;\n",
       "    }\n",
       "</style>\n",
       "<table border=\"1\" class=\"dataframe\">\n",
       "  <thead>\n",
       "    <tr style=\"text-align: right;\">\n",
       "      <th></th>\n",
       "      <th>date</th>\n",
       "      <th>metric</th>\n",
       "      <th>user</th>\n",
       "      <th>referer</th>\n",
       "      <th>os_family</th>\n",
       "      <th>browser_family</th>\n",
       "      <th>device_family</th>\n",
       "      <th>episode_file_path</th>\n",
       "      <th>episode_title</th>\n",
       "      <th>episode_duration</th>\n",
       "      <th>podcast_title</th>\n",
       "      <th>podcast_permalink</th>\n",
       "      <th>podcast_topic</th>\n",
       "      <th>city</th>\n",
       "      <th>region</th>\n",
       "      <th>country</th>\n",
       "      <th>time_zone</th>\n",
       "    </tr>\n",
       "  </thead>\n",
       "  <tbody>\n",
       "    <tr>\n",
       "      <th>5563</th>\n",
       "      <td>2019-11-01T00:00:03.000</td>\n",
       "      <td>Número de descargas de tipo 206</td>\n",
       "      <td>-154842013995607494</td>\n",
       "      <td>NaN</td>\n",
       "      <td>Android</td>\n",
       "      <td>Android</td>\n",
       "      <td>Smartphone</td>\n",
       "      <td>1572441943897.mp3</td>\n",
       "      <td>Un poco de Tete Montoliú es mucho (II)</td>\n",
       "      <td>3508119</td>\n",
       "      <td>Sólo jazz</td>\n",
       "      <td>RADIO-CLASICA</td>\n",
       "      <td>Música</td>\n",
       "      <td>Ciudad de México</td>\n",
       "      <td>Ciudad de México</td>\n",
       "      <td>México</td>\n",
       "      <td>America/Mexico_City</td>\n",
       "    </tr>\n",
       "    <tr>\n",
       "      <th>5051</th>\n",
       "      <td>2019-11-01T00:00:03.000</td>\n",
       "      <td>Número de descargas de tipo 206</td>\n",
       "      <td>5593889098322614847</td>\n",
       "      <td>NaN</td>\n",
       "      <td>Android</td>\n",
       "      <td>Android</td>\n",
       "      <td>Smartphone</td>\n",
       "      <td>1572540292889.mp3</td>\n",
       "      <td>MILES DAVIS: John Scofield, Mike Stern y Marcu...</td>\n",
       "      <td>3534294</td>\n",
       "      <td>Saltamontes</td>\n",
       "      <td>RADIO-3</td>\n",
       "      <td>Música</td>\n",
       "      <td>Vigo</td>\n",
       "      <td>Galicia</td>\n",
       "      <td>España</td>\n",
       "      <td>Europe/Madrid</td>\n",
       "    </tr>\n",
       "    <tr>\n",
       "      <th>5336</th>\n",
       "      <td>2019-11-01T00:00:12.000</td>\n",
       "      <td>Número de descargas parciales de tipo 206</td>\n",
       "      <td>4543763321232610746</td>\n",
       "      <td>NaN</td>\n",
       "      <td>iOS</td>\n",
       "      <td>Mobile Safari UI/WKWebView</td>\n",
       "      <td>Tableta</td>\n",
       "      <td>1572556860944.mp3</td>\n",
       "      <td>BOLETIN RNE - 31.10.19 22-00H</td>\n",
       "      <td>671869</td>\n",
       "      <td>Boletines RNE</td>\n",
       "      <td>RADIO-NACIONAL</td>\n",
       "      <td>Informativos</td>\n",
       "      <td>Hamburgo</td>\n",
       "      <td>Hamburgo</td>\n",
       "      <td>Alemania</td>\n",
       "      <td>Europe/Berlin</td>\n",
       "    </tr>\n",
       "    <tr>\n",
       "      <th>5285</th>\n",
       "      <td>2019-11-01T00:00:31.000</td>\n",
       "      <td>Número de descargas de tipo 206</td>\n",
       "      <td>-1854272914882180369</td>\n",
       "      <td>NaN</td>\n",
       "      <td>Android</td>\n",
       "      <td>Android</td>\n",
       "      <td>Smartphone</td>\n",
       "      <td>1330153817957.mp3</td>\n",
       "      <td>Primera hora - 25/02/12</td>\n",
       "      <td>3191484</td>\n",
       "      <td>Espacio en blanco</td>\n",
       "      <td>RADIO-NACIONAL</td>\n",
       "      <td>Entretenimiento</td>\n",
       "      <td>Barcelona</td>\n",
       "      <td>Cataluña</td>\n",
       "      <td>España</td>\n",
       "      <td>Europe/Madrid</td>\n",
       "    </tr>\n",
       "    <tr>\n",
       "      <th>4943</th>\n",
       "      <td>2019-11-01T00:00:35.000</td>\n",
       "      <td>Número de descargas de tipo 206</td>\n",
       "      <td>2386459881588943663</td>\n",
       "      <td>NaN</td>\n",
       "      <td>Android</td>\n",
       "      <td>Android</td>\n",
       "      <td>Smartphone</td>\n",
       "      <td>1572175203168.mp3</td>\n",
       "      <td>Encuentros con la vida después de la vida</td>\n",
       "      <td>3201395</td>\n",
       "      <td>Espacio en blanco</td>\n",
       "      <td>RADIO-NACIONAL</td>\n",
       "      <td>Entretenimiento</td>\n",
       "      <td>Santiago de Compostela</td>\n",
       "      <td>Galicia</td>\n",
       "      <td>España</td>\n",
       "      <td>Europe/Madrid</td>\n",
       "    </tr>\n",
       "    <tr>\n",
       "      <th>...</th>\n",
       "      <td>...</td>\n",
       "      <td>...</td>\n",
       "      <td>...</td>\n",
       "      <td>...</td>\n",
       "      <td>...</td>\n",
       "      <td>...</td>\n",
       "      <td>...</td>\n",
       "      <td>...</td>\n",
       "      <td>...</td>\n",
       "      <td>...</td>\n",
       "      <td>...</td>\n",
       "      <td>...</td>\n",
       "      <td>...</td>\n",
       "      <td>...</td>\n",
       "      <td>...</td>\n",
       "      <td>...</td>\n",
       "      <td>...</td>\n",
       "    </tr>\n",
       "    <tr>\n",
       "      <th>4882</th>\n",
       "      <td>2019-11-01T22:53:14.000</td>\n",
       "      <td>Número de descargas de tipo 206</td>\n",
       "      <td>5058059644454795140</td>\n",
       "      <td>NaN</td>\n",
       "      <td>iOS</td>\n",
       "      <td>Mobile Safari UI/WKWebView</td>\n",
       "      <td>Smartphone</td>\n",
       "      <td>1571568600931.mp3</td>\n",
       "      <td>Carne roja - Julio Basulto - 'Vida sana'</td>\n",
       "      <td>1812231</td>\n",
       "      <td>No es un día cualquiera</td>\n",
       "      <td>RADIO-NACIONAL</td>\n",
       "      <td>Magacín</td>\n",
       "      <td>Yecla</td>\n",
       "      <td>Murcia</td>\n",
       "      <td>España</td>\n",
       "      <td>Europe/Madrid</td>\n",
       "    </tr>\n",
       "    <tr>\n",
       "      <th>5306</th>\n",
       "      <td>2019-11-01T23:23:42.000</td>\n",
       "      <td>Número de descargas de tipo 206</td>\n",
       "      <td>-887851500365532202</td>\n",
       "      <td>NaN</td>\n",
       "      <td>iOS</td>\n",
       "      <td>Mobile Safari UI/WKWebView</td>\n",
       "      <td>Smartphone</td>\n",
       "      <td>1572225828811.mp3</td>\n",
       "      <td>En un mundo feliz - 28/10/19</td>\n",
       "      <td>3575489</td>\n",
       "      <td>En un mundo feliz</td>\n",
       "      <td>RADIO-3</td>\n",
       "      <td>Música</td>\n",
       "      <td>NaN</td>\n",
       "      <td>Texas</td>\n",
       "      <td>Estados Unidos</td>\n",
       "      <td>America/Chicago</td>\n",
       "    </tr>\n",
       "    <tr>\n",
       "      <th>4898</th>\n",
       "      <td>2019-11-01T23:29:43.000</td>\n",
       "      <td>Número de descargas parciales de tipo 206</td>\n",
       "      <td>694720002446329070</td>\n",
       "      <td>RTVE</td>\n",
       "      <td>Windows</td>\n",
       "      <td>Edge</td>\n",
       "      <td>Dispositivo no registrado</td>\n",
       "      <td>1572470027619.mp3</td>\n",
       "      <td>MOZART: Gran Partita</td>\n",
       "      <td>1663587</td>\n",
       "      <td>Gran Repertorio</td>\n",
       "      <td>RADIO-CLASICA</td>\n",
       "      <td>Música</td>\n",
       "      <td>Torreón</td>\n",
       "      <td>Chiapas</td>\n",
       "      <td>México</td>\n",
       "      <td>America/Mexico_City</td>\n",
       "    </tr>\n",
       "    <tr>\n",
       "      <th>4889</th>\n",
       "      <td>2019-11-01T23:30:30.000</td>\n",
       "      <td>Número de descargas de tipo 206</td>\n",
       "      <td>-6906471476793900228</td>\n",
       "      <td>RTVE</td>\n",
       "      <td>Windows</td>\n",
       "      <td>Chrome</td>\n",
       "      <td>Dispositivo no registrado</td>\n",
       "      <td>1491063013540.mp3</td>\n",
       "      <td>Triángulos, desde las estrellas a Pitágoras</td>\n",
       "      <td>1174237</td>\n",
       "      <td>Raíz de 5</td>\n",
       "      <td>RADIO-5</td>\n",
       "      <td>Educación</td>\n",
       "      <td>Oviedo</td>\n",
       "      <td>Asturias</td>\n",
       "      <td>España</td>\n",
       "      <td>Europe/Madrid</td>\n",
       "    </tr>\n",
       "    <tr>\n",
       "      <th>4870</th>\n",
       "      <td>2019-11-01T23:30:39.000</td>\n",
       "      <td>Número de descargas de tipo 206</td>\n",
       "      <td>4347451742438704423</td>\n",
       "      <td>RTVE</td>\n",
       "      <td>Android</td>\n",
       "      <td>Chrome Mobile</td>\n",
       "      <td>Dispositivo no registrado</td>\n",
       "      <td>1572611289197.mp3</td>\n",
       "      <td>Tercera hora - 01/11/19</td>\n",
       "      <td>3096879</td>\n",
       "      <td>Las mañanas de RNE con Pepa Fernández</td>\n",
       "      <td>RADIO-NACIONAL</td>\n",
       "      <td>Magacín</td>\n",
       "      <td>Jaén</td>\n",
       "      <td>Andalucía</td>\n",
       "      <td>España</td>\n",
       "      <td>Europe/Madrid</td>\n",
       "    </tr>\n",
       "  </tbody>\n",
       "</table>\n",
       "<p>5809 rows × 17 columns</p>\n",
       "</div>"
      ],
      "text/plain": [
       "                         date                                     metric  \\\n",
       "5563  2019-11-01T00:00:03.000            Número de descargas de tipo 206   \n",
       "5051  2019-11-01T00:00:03.000            Número de descargas de tipo 206   \n",
       "5336  2019-11-01T00:00:12.000  Número de descargas parciales de tipo 206   \n",
       "5285  2019-11-01T00:00:31.000            Número de descargas de tipo 206   \n",
       "4943  2019-11-01T00:00:35.000            Número de descargas de tipo 206   \n",
       "...                       ...                                        ...   \n",
       "4882  2019-11-01T22:53:14.000            Número de descargas de tipo 206   \n",
       "5306  2019-11-01T23:23:42.000            Número de descargas de tipo 206   \n",
       "4898  2019-11-01T23:29:43.000  Número de descargas parciales de tipo 206   \n",
       "4889  2019-11-01T23:30:30.000            Número de descargas de tipo 206   \n",
       "4870  2019-11-01T23:30:39.000            Número de descargas de tipo 206   \n",
       "\n",
       "                     user referer os_family              browser_family  \\\n",
       "5563  -154842013995607494     NaN   Android                     Android   \n",
       "5051  5593889098322614847     NaN   Android                     Android   \n",
       "5336  4543763321232610746     NaN       iOS  Mobile Safari UI/WKWebView   \n",
       "5285 -1854272914882180369     NaN   Android                     Android   \n",
       "4943  2386459881588943663     NaN   Android                     Android   \n",
       "...                   ...     ...       ...                         ...   \n",
       "4882  5058059644454795140     NaN       iOS  Mobile Safari UI/WKWebView   \n",
       "5306  -887851500365532202     NaN       iOS  Mobile Safari UI/WKWebView   \n",
       "4898   694720002446329070    RTVE   Windows                        Edge   \n",
       "4889 -6906471476793900228    RTVE   Windows                      Chrome   \n",
       "4870  4347451742438704423    RTVE   Android               Chrome Mobile   \n",
       "\n",
       "                  device_family  episode_file_path  \\\n",
       "5563                 Smartphone  1572441943897.mp3   \n",
       "5051                 Smartphone  1572540292889.mp3   \n",
       "5336                    Tableta  1572556860944.mp3   \n",
       "5285                 Smartphone  1330153817957.mp3   \n",
       "4943                 Smartphone  1572175203168.mp3   \n",
       "...                         ...                ...   \n",
       "4882                 Smartphone  1571568600931.mp3   \n",
       "5306                 Smartphone  1572225828811.mp3   \n",
       "4898  Dispositivo no registrado  1572470027619.mp3   \n",
       "4889  Dispositivo no registrado  1491063013540.mp3   \n",
       "4870  Dispositivo no registrado  1572611289197.mp3   \n",
       "\n",
       "                                          episode_title  episode_duration  \\\n",
       "5563             Un poco de Tete Montoliú es mucho (II)           3508119   \n",
       "5051  MILES DAVIS: John Scofield, Mike Stern y Marcu...           3534294   \n",
       "5336                      BOLETIN RNE - 31.10.19 22-00H            671869   \n",
       "5285                            Primera hora - 25/02/12           3191484   \n",
       "4943          Encuentros con la vida después de la vida           3201395   \n",
       "...                                                 ...               ...   \n",
       "4882           Carne roja - Julio Basulto - 'Vida sana'           1812231   \n",
       "5306                       En un mundo feliz - 28/10/19           3575489   \n",
       "4898                               MOZART: Gran Partita           1663587   \n",
       "4889        Triángulos, desde las estrellas a Pitágoras           1174237   \n",
       "4870                            Tercera hora - 01/11/19           3096879   \n",
       "\n",
       "                              podcast_title podcast_permalink  \\\n",
       "5563                              Sólo jazz     RADIO-CLASICA   \n",
       "5051                            Saltamontes           RADIO-3   \n",
       "5336                          Boletines RNE    RADIO-NACIONAL   \n",
       "5285                      Espacio en blanco    RADIO-NACIONAL   \n",
       "4943                      Espacio en blanco    RADIO-NACIONAL   \n",
       "...                                     ...               ...   \n",
       "4882                No es un día cualquiera    RADIO-NACIONAL   \n",
       "5306                      En un mundo feliz           RADIO-3   \n",
       "4898                        Gran Repertorio     RADIO-CLASICA   \n",
       "4889                              Raíz de 5           RADIO-5   \n",
       "4870  Las mañanas de RNE con Pepa Fernández    RADIO-NACIONAL   \n",
       "\n",
       "        podcast_topic                    city            region  \\\n",
       "5563           Música        Ciudad de México  Ciudad de México   \n",
       "5051           Música                    Vigo           Galicia   \n",
       "5336     Informativos                Hamburgo          Hamburgo   \n",
       "5285  Entretenimiento               Barcelona          Cataluña   \n",
       "4943  Entretenimiento  Santiago de Compostela           Galicia   \n",
       "...               ...                     ...               ...   \n",
       "4882          Magacín                   Yecla            Murcia   \n",
       "5306           Música                     NaN             Texas   \n",
       "4898           Música                 Torreón           Chiapas   \n",
       "4889        Educación                  Oviedo          Asturias   \n",
       "4870          Magacín                    Jaén         Andalucía   \n",
       "\n",
       "             country            time_zone  \n",
       "5563          México  America/Mexico_City  \n",
       "5051          España        Europe/Madrid  \n",
       "5336        Alemania        Europe/Berlin  \n",
       "5285          España        Europe/Madrid  \n",
       "4943          España        Europe/Madrid  \n",
       "...              ...                  ...  \n",
       "4882          España        Europe/Madrid  \n",
       "5306  Estados Unidos      America/Chicago  \n",
       "4898          México  America/Mexico_City  \n",
       "4889          España        Europe/Madrid  \n",
       "4870          España        Europe/Madrid  \n",
       "\n",
       "[5809 rows x 17 columns]"
      ]
     },
     "execution_count": 19,
     "metadata": {},
     "output_type": "execute_result"
    }
   ],
   "source": [
    "#Se ordena los datos de la matriz por tiempo.\n",
    "Datos.sort_values(by='date')"
   ]
  },
  {
   "cell_type": "code",
   "execution_count": 20,
   "metadata": {},
   "outputs": [],
   "source": [
    "Datos['hora'] = Datos.apply(lambda row: datetime.datetime.strptime(row.date, \"%Y-%m-%dT%H:%M:%S.%f\").hour , axis = 1)\n",
    "Datos['minutos'] = Datos.apply(lambda row: datetime.datetime.strptime(row.date, \"%Y-%m-%dT%H:%M:%S.%f\").minute , axis = 1)"
   ]
  },
  {
   "cell_type": "code",
   "execution_count": 21,
   "metadata": {},
   "outputs": [
    {
     "data": {
      "text/html": [
       "<div>\n",
       "<style scoped>\n",
       "    .dataframe tbody tr th:only-of-type {\n",
       "        vertical-align: middle;\n",
       "    }\n",
       "\n",
       "    .dataframe tbody tr th {\n",
       "        vertical-align: top;\n",
       "    }\n",
       "\n",
       "    .dataframe thead th {\n",
       "        text-align: right;\n",
       "    }\n",
       "</style>\n",
       "<table border=\"1\" class=\"dataframe\">\n",
       "  <thead>\n",
       "    <tr style=\"text-align: right;\">\n",
       "      <th></th>\n",
       "      <th>date</th>\n",
       "      <th>metric</th>\n",
       "      <th>user</th>\n",
       "      <th>referer</th>\n",
       "      <th>os_family</th>\n",
       "      <th>browser_family</th>\n",
       "      <th>device_family</th>\n",
       "      <th>episode_file_path</th>\n",
       "      <th>episode_title</th>\n",
       "      <th>episode_duration</th>\n",
       "      <th>podcast_title</th>\n",
       "      <th>podcast_permalink</th>\n",
       "      <th>podcast_topic</th>\n",
       "      <th>city</th>\n",
       "      <th>region</th>\n",
       "      <th>country</th>\n",
       "      <th>time_zone</th>\n",
       "      <th>hora</th>\n",
       "      <th>minutos</th>\n",
       "    </tr>\n",
       "  </thead>\n",
       "  <tbody>\n",
       "    <tr>\n",
       "      <th>0</th>\n",
       "      <td>2019-11-01T00:56:36.000</td>\n",
       "      <td>Número de descargas de tipo 206</td>\n",
       "      <td>6624207285322504776</td>\n",
       "      <td>NaN</td>\n",
       "      <td>Android</td>\n",
       "      <td>Android</td>\n",
       "      <td>Smartphone</td>\n",
       "      <td>1572564777864.mp3</td>\n",
       "      <td>Análisis de la información - 31/10/19</td>\n",
       "      <td>4674885</td>\n",
       "      <td>24 horas</td>\n",
       "      <td>RADIO-NACIONAL</td>\n",
       "      <td>Informativos</td>\n",
       "      <td>Palencia</td>\n",
       "      <td>Castilla y León</td>\n",
       "      <td>España</td>\n",
       "      <td>Europe/Madrid</td>\n",
       "      <td>0</td>\n",
       "      <td>56</td>\n",
       "    </tr>\n",
       "    <tr>\n",
       "      <th>1</th>\n",
       "      <td>2019-11-01T01:27:37.000</td>\n",
       "      <td>Número de descargas parciales de tipo 200</td>\n",
       "      <td>1093782487219863411</td>\n",
       "      <td>NaN</td>\n",
       "      <td>Android</td>\n",
       "      <td>Android</td>\n",
       "      <td>Smartphone</td>\n",
       "      <td>1572564777864.mp3</td>\n",
       "      <td>Análisis de la información - 31/10/19</td>\n",
       "      <td>4674885</td>\n",
       "      <td>24 horas</td>\n",
       "      <td>RADIO-NACIONAL</td>\n",
       "      <td>Informativos</td>\n",
       "      <td>Madrid</td>\n",
       "      <td>Madrid</td>\n",
       "      <td>España</td>\n",
       "      <td>Europe/Madrid</td>\n",
       "      <td>1</td>\n",
       "      <td>27</td>\n",
       "    </tr>\n",
       "  </tbody>\n",
       "</table>\n",
       "</div>"
      ],
      "text/plain": [
       "                      date                                     metric  \\\n",
       "0  2019-11-01T00:56:36.000            Número de descargas de tipo 206   \n",
       "1  2019-11-01T01:27:37.000  Número de descargas parciales de tipo 200   \n",
       "\n",
       "                  user referer os_family browser_family device_family  \\\n",
       "0  6624207285322504776     NaN   Android        Android    Smartphone   \n",
       "1  1093782487219863411     NaN   Android        Android    Smartphone   \n",
       "\n",
       "   episode_file_path                           episode_title  \\\n",
       "0  1572564777864.mp3  Análisis de la información - 31/10/19    \n",
       "1  1572564777864.mp3  Análisis de la información - 31/10/19    \n",
       "\n",
       "   episode_duration podcast_title podcast_permalink podcast_topic      city  \\\n",
       "0           4674885      24 horas    RADIO-NACIONAL  Informativos  Palencia   \n",
       "1           4674885      24 horas    RADIO-NACIONAL  Informativos    Madrid   \n",
       "\n",
       "            region country      time_zone  hora  minutos  \n",
       "0  Castilla y León  España  Europe/Madrid     0       56  \n",
       "1           Madrid  España  Europe/Madrid     1       27  "
      ]
     },
     "execution_count": 21,
     "metadata": {},
     "output_type": "execute_result"
    }
   ],
   "source": [
    "Datos.head(2)\n"
   ]
  },
  {
   "cell_type": "markdown",
   "metadata": {},
   "source": [
    "Clasificación de los datos por franja horaria."
   ]
  },
  {
   "cell_type": "markdown",
   "metadata": {},
   "source": [
    "    Mañana 6:00 a 10:00.\n",
    "    Media-mañana 10 a 15:00.\n",
    "    Tarde 15:00 a 21:00.\n",
    "    Noche 21:00 a 6:00 del día siguiente.\n",
    "    \n"
   ]
  },
  {
   "cell_type": "code",
   "execution_count": 22,
   "metadata": {},
   "outputs": [],
   "source": [
    "Datos_time = Datos[['date', 'hora', 'minutos']]\n",
    "Datos_time = Datos_time.sort_values(by='date')"
   ]
  },
  {
   "cell_type": "code",
   "execution_count": 23,
   "metadata": {},
   "outputs": [],
   "source": [
    "#Nueva matriz que indique en una nueva columna a que franja horaria pertenece cada dato. \n",
    "Datos_time['franja_horaria']= Datos_time['hora'].apply(lambda x:'mañana' if (7 <= x < 10 )  else ('media-mañana' if (10 <= x < 15) else ('tarde' if (15 <= x < 21 )  else 'noche')))"
   ]
  },
  {
   "cell_type": "code",
   "execution_count": 24,
   "metadata": {},
   "outputs": [
    {
     "data": {
      "text/html": [
       "<div>\n",
       "<style scoped>\n",
       "    .dataframe tbody tr th:only-of-type {\n",
       "        vertical-align: middle;\n",
       "    }\n",
       "\n",
       "    .dataframe tbody tr th {\n",
       "        vertical-align: top;\n",
       "    }\n",
       "\n",
       "    .dataframe thead th {\n",
       "        text-align: right;\n",
       "    }\n",
       "</style>\n",
       "<table border=\"1\" class=\"dataframe\">\n",
       "  <thead>\n",
       "    <tr style=\"text-align: right;\">\n",
       "      <th></th>\n",
       "      <th>date</th>\n",
       "      <th>hora</th>\n",
       "      <th>minutos</th>\n",
       "      <th>franja_horaria</th>\n",
       "    </tr>\n",
       "  </thead>\n",
       "  <tbody>\n",
       "    <tr>\n",
       "      <th>5563</th>\n",
       "      <td>2019-11-01T00:00:03.000</td>\n",
       "      <td>0</td>\n",
       "      <td>0</td>\n",
       "      <td>noche</td>\n",
       "    </tr>\n",
       "    <tr>\n",
       "      <th>5051</th>\n",
       "      <td>2019-11-01T00:00:03.000</td>\n",
       "      <td>0</td>\n",
       "      <td>0</td>\n",
       "      <td>noche</td>\n",
       "    </tr>\n",
       "    <tr>\n",
       "      <th>5336</th>\n",
       "      <td>2019-11-01T00:00:12.000</td>\n",
       "      <td>0</td>\n",
       "      <td>0</td>\n",
       "      <td>noche</td>\n",
       "    </tr>\n",
       "    <tr>\n",
       "      <th>5285</th>\n",
       "      <td>2019-11-01T00:00:31.000</td>\n",
       "      <td>0</td>\n",
       "      <td>0</td>\n",
       "      <td>noche</td>\n",
       "    </tr>\n",
       "    <tr>\n",
       "      <th>4943</th>\n",
       "      <td>2019-11-01T00:00:35.000</td>\n",
       "      <td>0</td>\n",
       "      <td>0</td>\n",
       "      <td>noche</td>\n",
       "    </tr>\n",
       "  </tbody>\n",
       "</table>\n",
       "</div>"
      ],
      "text/plain": [
       "                         date  hora  minutos franja_horaria\n",
       "5563  2019-11-01T00:00:03.000     0        0          noche\n",
       "5051  2019-11-01T00:00:03.000     0        0          noche\n",
       "5336  2019-11-01T00:00:12.000     0        0          noche\n",
       "5285  2019-11-01T00:00:31.000     0        0          noche\n",
       "4943  2019-11-01T00:00:35.000     0        0          noche"
      ]
     },
     "execution_count": 24,
     "metadata": {},
     "output_type": "execute_result"
    }
   ],
   "source": [
    "Datos_time.head()"
   ]
  },
  {
   "cell_type": "code",
   "execution_count": 25,
   "metadata": {},
   "outputs": [
    {
     "data": {
      "text/html": [
       "<div>\n",
       "<style scoped>\n",
       "    .dataframe tbody tr th:only-of-type {\n",
       "        vertical-align: middle;\n",
       "    }\n",
       "\n",
       "    .dataframe tbody tr th {\n",
       "        vertical-align: top;\n",
       "    }\n",
       "\n",
       "    .dataframe thead th {\n",
       "        text-align: right;\n",
       "    }\n",
       "</style>\n",
       "<table border=\"1\" class=\"dataframe\">\n",
       "  <thead>\n",
       "    <tr style=\"text-align: right;\">\n",
       "      <th></th>\n",
       "      <th>date</th>\n",
       "      <th>hora</th>\n",
       "      <th>minutos</th>\n",
       "      <th>franja_horaria</th>\n",
       "    </tr>\n",
       "  </thead>\n",
       "  <tbody>\n",
       "    <tr>\n",
       "      <th>5563</th>\n",
       "      <td>2019-11-01T00:00:03.000</td>\n",
       "      <td>0</td>\n",
       "      <td>0</td>\n",
       "      <td>noche</td>\n",
       "    </tr>\n",
       "    <tr>\n",
       "      <th>5051</th>\n",
       "      <td>2019-11-01T00:00:03.000</td>\n",
       "      <td>0</td>\n",
       "      <td>0</td>\n",
       "      <td>noche</td>\n",
       "    </tr>\n",
       "    <tr>\n",
       "      <th>5336</th>\n",
       "      <td>2019-11-01T00:00:12.000</td>\n",
       "      <td>0</td>\n",
       "      <td>0</td>\n",
       "      <td>noche</td>\n",
       "    </tr>\n",
       "    <tr>\n",
       "      <th>5285</th>\n",
       "      <td>2019-11-01T00:00:31.000</td>\n",
       "      <td>0</td>\n",
       "      <td>0</td>\n",
       "      <td>noche</td>\n",
       "    </tr>\n",
       "    <tr>\n",
       "      <th>4943</th>\n",
       "      <td>2019-11-01T00:00:35.000</td>\n",
       "      <td>0</td>\n",
       "      <td>0</td>\n",
       "      <td>noche</td>\n",
       "    </tr>\n",
       "    <tr>\n",
       "      <th>...</th>\n",
       "      <td>...</td>\n",
       "      <td>...</td>\n",
       "      <td>...</td>\n",
       "      <td>...</td>\n",
       "    </tr>\n",
       "    <tr>\n",
       "      <th>4882</th>\n",
       "      <td>2019-11-01T22:53:14.000</td>\n",
       "      <td>22</td>\n",
       "      <td>53</td>\n",
       "      <td>noche</td>\n",
       "    </tr>\n",
       "    <tr>\n",
       "      <th>5306</th>\n",
       "      <td>2019-11-01T23:23:42.000</td>\n",
       "      <td>23</td>\n",
       "      <td>23</td>\n",
       "      <td>noche</td>\n",
       "    </tr>\n",
       "    <tr>\n",
       "      <th>4898</th>\n",
       "      <td>2019-11-01T23:29:43.000</td>\n",
       "      <td>23</td>\n",
       "      <td>29</td>\n",
       "      <td>noche</td>\n",
       "    </tr>\n",
       "    <tr>\n",
       "      <th>4889</th>\n",
       "      <td>2019-11-01T23:30:30.000</td>\n",
       "      <td>23</td>\n",
       "      <td>30</td>\n",
       "      <td>noche</td>\n",
       "    </tr>\n",
       "    <tr>\n",
       "      <th>4870</th>\n",
       "      <td>2019-11-01T23:30:39.000</td>\n",
       "      <td>23</td>\n",
       "      <td>30</td>\n",
       "      <td>noche</td>\n",
       "    </tr>\n",
       "  </tbody>\n",
       "</table>\n",
       "<p>1459 rows × 4 columns</p>\n",
       "</div>"
      ],
      "text/plain": [
       "                         date  hora  minutos franja_horaria\n",
       "5563  2019-11-01T00:00:03.000     0        0          noche\n",
       "5051  2019-11-01T00:00:03.000     0        0          noche\n",
       "5336  2019-11-01T00:00:12.000     0        0          noche\n",
       "5285  2019-11-01T00:00:31.000     0        0          noche\n",
       "4943  2019-11-01T00:00:35.000     0        0          noche\n",
       "...                       ...   ...      ...            ...\n",
       "4882  2019-11-01T22:53:14.000    22       53          noche\n",
       "5306  2019-11-01T23:23:42.000    23       23          noche\n",
       "4898  2019-11-01T23:29:43.000    23       29          noche\n",
       "4889  2019-11-01T23:30:30.000    23       30          noche\n",
       "4870  2019-11-01T23:30:39.000    23       30          noche\n",
       "\n",
       "[1459 rows x 4 columns]"
      ]
     },
     "execution_count": 25,
     "metadata": {},
     "output_type": "execute_result"
    }
   ],
   "source": [
    "Datos_time[Datos_time.franja_horaria=='noche']"
   ]
  },
  {
   "cell_type": "code",
   "execution_count": 26,
   "metadata": {},
   "outputs": [
    {
     "data": {
      "text/plain": [
       "media-mañana    2433\n",
       "noche           1459\n",
       "mañana          1133\n",
       "tarde            784\n",
       "Name: franja_horaria, dtype: int64"
      ]
     },
     "execution_count": 26,
     "metadata": {},
     "output_type": "execute_result"
    }
   ],
   "source": [
    "#Número de registros para cada franja horaria\n",
    "Datos_time['franja_horaria'].value_counts()"
   ]
  },
  {
   "cell_type": "code",
   "execution_count": 27,
   "metadata": {},
   "outputs": [
    {
     "name": "stdout",
     "output_type": "stream",
     "text": [
      "<class 'pandas.core.frame.DataFrame'>\n",
      "Int64Index: 5809 entries, 5563 to 4870\n",
      "Data columns (total 4 columns):\n",
      " #   Column          Non-Null Count  Dtype \n",
      "---  ------          --------------  ----- \n",
      " 0   date            5809 non-null   object\n",
      " 1   hora            5809 non-null   int64 \n",
      " 2   minutos         5809 non-null   int64 \n",
      " 3   franja_horaria  5809 non-null   object\n",
      "dtypes: int64(2), object(2)\n",
      "memory usage: 226.9+ KB\n"
     ]
    }
   ],
   "source": [
    "Datos_time.info()"
   ]
  },
  {
   "cell_type": "code",
   "execution_count": 28,
   "metadata": {},
   "outputs": [
    {
     "data": {
      "text/plain": [
       "<matplotlib.axes._subplots.AxesSubplot at 0x231ac935748>"
      ]
     },
     "execution_count": 28,
     "metadata": {},
     "output_type": "execute_result"
    },
    {
     "data": {
      "image/png": "[encoded data removed]",
      "text/plain": [
       "<Figure size 432x288 with 1 Axes>"
      ]
     },
     "metadata": {
      "needs_background": "light"
     },
     "output_type": "display_data"
    }
   ],
   "source": [
    "Datos_time.groupby('franja_horaria')['franja_horaria'].count().plot(kind='bar')"
   ]
  },
  {
   "cell_type": "code",
   "execution_count": 29,
   "metadata": {},
   "outputs": [
    {
     "data": {
      "text/plain": [
       "<matplotlib.axes._subplots.AxesSubplot at 0x231ad594108>"
      ]
     },
     "execution_count": 29,
     "metadata": {},
     "output_type": "execute_result"
    },
    {
     "data": {
      "image/png": "[encoded data removed]",
      "text/plain": [
       "<Figure size 432x288 with 1 Axes>"
      ]
     },
     "metadata": {},
     "output_type": "display_data"
    }
   ],
   "source": [
    "Datos_time.groupby('franja_horaria')['franja_horaria'].count().plot(kind='pie')"
   ]
  },
  {
   "cell_type": "markdown",
   "metadata": {},
   "source": [
    "Función para filtrar los datos por duración.\n"
   ]
  },
  {
   "cell_type": "markdown",
   "metadata": {},
   "source": [
    "Primero se clasifican los datos por duración. Están en milisegundos.\n",
    "Se pasan los datos a segundos."
   ]
  },
  {
   "cell_type": "code",
   "execution_count": 30,
   "metadata": {},
   "outputs": [],
   "source": [
    "Datos['episode_duration']= Datos['episode_duration'].apply (lambda x: x/(60000))"
   ]
  },
  {
   "cell_type": "code",
   "execution_count": 31,
   "metadata": {},
   "outputs": [
    {
     "data": {
      "text/plain": [
       "53.764533     149\n",
       "118.894250    117\n",
       "55.581783      97\n",
       "53.356583      81\n",
       "77.914750      75\n",
       "             ... \n",
       "2.488717        1\n",
       "118.980867      1\n",
       "59.052917       1\n",
       "59.097333       1\n",
       "20.250000       1\n",
       "Name: episode_duration, Length: 1921, dtype: int64"
      ]
     },
     "execution_count": 31,
     "metadata": {},
     "output_type": "execute_result"
    }
   ],
   "source": [
    "Datos['episode_duration'].value_counts()"
   ]
  },
  {
   "cell_type": "code",
   "execution_count": 32,
   "metadata": {},
   "outputs": [
    {
     "data": {
      "text/html": [
       "<div>\n",
       "<style scoped>\n",
       "    .dataframe tbody tr th:only-of-type {\n",
       "        vertical-align: middle;\n",
       "    }\n",
       "\n",
       "    .dataframe tbody tr th {\n",
       "        vertical-align: top;\n",
       "    }\n",
       "\n",
       "    .dataframe thead th {\n",
       "        text-align: right;\n",
       "    }\n",
       "</style>\n",
       "<table border=\"1\" class=\"dataframe\">\n",
       "  <thead>\n",
       "    <tr style=\"text-align: right;\">\n",
       "      <th></th>\n",
       "      <th>date</th>\n",
       "      <th>metric</th>\n",
       "      <th>user</th>\n",
       "      <th>referer</th>\n",
       "      <th>os_family</th>\n",
       "      <th>browser_family</th>\n",
       "      <th>device_family</th>\n",
       "      <th>episode_file_path</th>\n",
       "      <th>episode_title</th>\n",
       "      <th>episode_duration</th>\n",
       "      <th>podcast_title</th>\n",
       "      <th>podcast_permalink</th>\n",
       "      <th>podcast_topic</th>\n",
       "      <th>city</th>\n",
       "      <th>region</th>\n",
       "      <th>country</th>\n",
       "      <th>time_zone</th>\n",
       "      <th>hora</th>\n",
       "      <th>minutos</th>\n",
       "    </tr>\n",
       "  </thead>\n",
       "  <tbody>\n",
       "    <tr>\n",
       "      <th>0</th>\n",
       "      <td>2019-11-01T00:56:36.000</td>\n",
       "      <td>Número de descargas de tipo 206</td>\n",
       "      <td>6624207285322504776</td>\n",
       "      <td>NaN</td>\n",
       "      <td>Android</td>\n",
       "      <td>Android</td>\n",
       "      <td>Smartphone</td>\n",
       "      <td>1572564777864.mp3</td>\n",
       "      <td>Análisis de la información - 31/10/19</td>\n",
       "      <td>77.91475</td>\n",
       "      <td>24 horas</td>\n",
       "      <td>RADIO-NACIONAL</td>\n",
       "      <td>Informativos</td>\n",
       "      <td>Palencia</td>\n",
       "      <td>Castilla y León</td>\n",
       "      <td>España</td>\n",
       "      <td>Europe/Madrid</td>\n",
       "      <td>0</td>\n",
       "      <td>56</td>\n",
       "    </tr>\n",
       "    <tr>\n",
       "      <th>1</th>\n",
       "      <td>2019-11-01T01:27:37.000</td>\n",
       "      <td>Número de descargas parciales de tipo 200</td>\n",
       "      <td>1093782487219863411</td>\n",
       "      <td>NaN</td>\n",
       "      <td>Android</td>\n",
       "      <td>Android</td>\n",
       "      <td>Smartphone</td>\n",
       "      <td>1572564777864.mp3</td>\n",
       "      <td>Análisis de la información - 31/10/19</td>\n",
       "      <td>77.91475</td>\n",
       "      <td>24 horas</td>\n",
       "      <td>RADIO-NACIONAL</td>\n",
       "      <td>Informativos</td>\n",
       "      <td>Madrid</td>\n",
       "      <td>Madrid</td>\n",
       "      <td>España</td>\n",
       "      <td>Europe/Madrid</td>\n",
       "      <td>1</td>\n",
       "      <td>27</td>\n",
       "    </tr>\n",
       "  </tbody>\n",
       "</table>\n",
       "</div>"
      ],
      "text/plain": [
       "                      date                                     metric  \\\n",
       "0  2019-11-01T00:56:36.000            Número de descargas de tipo 206   \n",
       "1  2019-11-01T01:27:37.000  Número de descargas parciales de tipo 200   \n",
       "\n",
       "                  user referer os_family browser_family device_family  \\\n",
       "0  6624207285322504776     NaN   Android        Android    Smartphone   \n",
       "1  1093782487219863411     NaN   Android        Android    Smartphone   \n",
       "\n",
       "   episode_file_path                           episode_title  \\\n",
       "0  1572564777864.mp3  Análisis de la información - 31/10/19    \n",
       "1  1572564777864.mp3  Análisis de la información - 31/10/19    \n",
       "\n",
       "   episode_duration podcast_title podcast_permalink podcast_topic      city  \\\n",
       "0          77.91475      24 horas    RADIO-NACIONAL  Informativos  Palencia   \n",
       "1          77.91475      24 horas    RADIO-NACIONAL  Informativos    Madrid   \n",
       "\n",
       "            region country      time_zone  hora  minutos  \n",
       "0  Castilla y León  España  Europe/Madrid     0       56  \n",
       "1           Madrid  España  Europe/Madrid     1       27  "
      ]
     },
     "execution_count": 32,
     "metadata": {},
     "output_type": "execute_result"
    }
   ],
   "source": [
    "Datos.head(2)"
   ]
  },
  {
   "cell_type": "markdown",
   "metadata": {},
   "source": [
    "**Función que devuelva los datos según duración del episodio en minutos.**\n"
   ]
  },
  {
   "cell_type": "markdown",
   "metadata": {},
   "source": [
    "Distinguimos varios tipos de podcasts:\n",
    "\n",
    "    <30 mins.\n",
    "    30-60 mins.\n",
    "    >60 mins."
   ]
  },
  {
   "cell_type": "code",
   "execution_count": 33,
   "metadata": {},
   "outputs": [],
   "source": [
    "#Se añade una columna que clasifique los datos por duración:\n",
    "Datos['clasificación_dur_ep']= Datos['episode_duration'].apply (lambda x: '<30 mins' if x<30 else('30-60 mins' if 30<=x<60 else '>60 mins'))"
   ]
  },
  {
   "cell_type": "code",
   "execution_count": 34,
   "metadata": {},
   "outputs": [
    {
     "data": {
      "text/html": [
       "<div>\n",
       "<style scoped>\n",
       "    .dataframe tbody tr th:only-of-type {\n",
       "        vertical-align: middle;\n",
       "    }\n",
       "\n",
       "    .dataframe tbody tr th {\n",
       "        vertical-align: top;\n",
       "    }\n",
       "\n",
       "    .dataframe thead th {\n",
       "        text-align: right;\n",
       "    }\n",
       "</style>\n",
       "<table border=\"1\" class=\"dataframe\">\n",
       "  <thead>\n",
       "    <tr style=\"text-align: right;\">\n",
       "      <th></th>\n",
       "      <th>episode_duration</th>\n",
       "      <th>clasificación_dur_ep</th>\n",
       "    </tr>\n",
       "  </thead>\n",
       "  <tbody>\n",
       "    <tr>\n",
       "      <th>0</th>\n",
       "      <td>77.914750</td>\n",
       "      <td>&gt;60 mins</td>\n",
       "    </tr>\n",
       "    <tr>\n",
       "      <th>1</th>\n",
       "      <td>77.914750</td>\n",
       "      <td>&gt;60 mins</td>\n",
       "    </tr>\n",
       "    <tr>\n",
       "      <th>2</th>\n",
       "      <td>58.553983</td>\n",
       "      <td>30-60 mins</td>\n",
       "    </tr>\n",
       "    <tr>\n",
       "      <th>3</th>\n",
       "      <td>53.356583</td>\n",
       "      <td>30-60 mins</td>\n",
       "    </tr>\n",
       "    <tr>\n",
       "      <th>5</th>\n",
       "      <td>53.786733</td>\n",
       "      <td>30-60 mins</td>\n",
       "    </tr>\n",
       "  </tbody>\n",
       "</table>\n",
       "</div>"
      ],
      "text/plain": [
       "   episode_duration clasificación_dur_ep\n",
       "0         77.914750             >60 mins\n",
       "1         77.914750             >60 mins\n",
       "2         58.553983           30-60 mins\n",
       "3         53.356583           30-60 mins\n",
       "5         53.786733           30-60 mins"
      ]
     },
     "execution_count": 34,
     "metadata": {},
     "output_type": "execute_result"
    }
   ],
   "source": [
    "Datos[['episode_duration','clasificación_dur_ep']].head()"
   ]
  },
  {
   "cell_type": "code",
   "execution_count": 35,
   "metadata": {},
   "outputs": [
    {
     "data": {
      "text/html": [
       "<div>\n",
       "<style scoped>\n",
       "    .dataframe tbody tr th:only-of-type {\n",
       "        vertical-align: middle;\n",
       "    }\n",
       "\n",
       "    .dataframe tbody tr th {\n",
       "        vertical-align: top;\n",
       "    }\n",
       "\n",
       "    .dataframe thead th {\n",
       "        text-align: right;\n",
       "    }\n",
       "</style>\n",
       "<table border=\"1\" class=\"dataframe\">\n",
       "  <thead>\n",
       "    <tr style=\"text-align: right;\">\n",
       "      <th></th>\n",
       "      <th>episode_duration</th>\n",
       "      <th>clasificación_dur_ep</th>\n",
       "    </tr>\n",
       "  </thead>\n",
       "  <tbody>\n",
       "    <tr>\n",
       "      <th>0</th>\n",
       "      <td>77.914750</td>\n",
       "      <td>&gt;60 mins</td>\n",
       "    </tr>\n",
       "    <tr>\n",
       "      <th>1</th>\n",
       "      <td>77.914750</td>\n",
       "      <td>&gt;60 mins</td>\n",
       "    </tr>\n",
       "    <tr>\n",
       "      <th>2</th>\n",
       "      <td>58.553983</td>\n",
       "      <td>30-60 mins</td>\n",
       "    </tr>\n",
       "    <tr>\n",
       "      <th>3</th>\n",
       "      <td>53.356583</td>\n",
       "      <td>30-60 mins</td>\n",
       "    </tr>\n",
       "    <tr>\n",
       "      <th>5</th>\n",
       "      <td>53.786733</td>\n",
       "      <td>30-60 mins</td>\n",
       "    </tr>\n",
       "    <tr>\n",
       "      <th>...</th>\n",
       "      <td>...</td>\n",
       "      <td>...</td>\n",
       "    </tr>\n",
       "    <tr>\n",
       "      <th>9993</th>\n",
       "      <td>60.953383</td>\n",
       "      <td>&gt;60 mins</td>\n",
       "    </tr>\n",
       "    <tr>\n",
       "      <th>9994</th>\n",
       "      <td>60.093617</td>\n",
       "      <td>&gt;60 mins</td>\n",
       "    </tr>\n",
       "    <tr>\n",
       "      <th>9995</th>\n",
       "      <td>51.689533</td>\n",
       "      <td>30-60 mins</td>\n",
       "    </tr>\n",
       "    <tr>\n",
       "      <th>9997</th>\n",
       "      <td>52.905100</td>\n",
       "      <td>30-60 mins</td>\n",
       "    </tr>\n",
       "    <tr>\n",
       "      <th>9998</th>\n",
       "      <td>58.945467</td>\n",
       "      <td>30-60 mins</td>\n",
       "    </tr>\n",
       "  </tbody>\n",
       "</table>\n",
       "<p>5809 rows × 2 columns</p>\n",
       "</div>"
      ],
      "text/plain": [
       "      episode_duration clasificación_dur_ep\n",
       "0            77.914750             >60 mins\n",
       "1            77.914750             >60 mins\n",
       "2            58.553983           30-60 mins\n",
       "3            53.356583           30-60 mins\n",
       "5            53.786733           30-60 mins\n",
       "...                ...                  ...\n",
       "9993         60.953383             >60 mins\n",
       "9994         60.093617             >60 mins\n",
       "9995         51.689533           30-60 mins\n",
       "9997         52.905100           30-60 mins\n",
       "9998         58.945467           30-60 mins\n",
       "\n",
       "[5809 rows x 2 columns]"
      ]
     },
     "execution_count": 35,
     "metadata": {},
     "output_type": "execute_result"
    }
   ],
   "source": [
    "Datos[['episode_duration','clasificación_dur_ep']]"
   ]
  },
  {
   "cell_type": "code",
   "execution_count": 36,
   "metadata": {},
   "outputs": [],
   "source": [
    "#Función que devuelve podcasts dentro de un rango de duración parecida.\n",
    "\n",
    "def filtro_duración (minutos):\n",
    "    \n",
    "     if minutos >= 60 :\n",
    "        largo = Datos[Datos.clasificación_dur_ep=='>60 mins']\n",
    "        largo = largo[['episode_duration','clasificación_dur_ep', 'episode_title', 'podcast_permalink', 'podcast_topic']]\n",
    "\n",
    "        return largo.head()\n",
    "\n",
    "    \n",
    "  \n",
    "     elif 30 <= minutos < 60 : \n",
    "          medio = Datos[Datos.clasificación_dur_ep=='30-60 mins']\n",
    "          medio = medio[['episode_duration','clasificación_dur_ep', 'episode_title', 'podcast_permalink', 'podcast_topic']]\n",
    "        \n",
    "          return medio.head()\n",
    "    \n",
    "     else:\n",
    "        if minutos < 30 :\n",
    "            corto = Datos[Datos.clasificación_dur_ep=='<30 mins']\n",
    "            corto = corto[['episode_duration','clasificación_dur_ep', 'episode_title', 'podcast_permalink', 'podcast_topic']]\n",
    "        \n",
    "        return corto.head()"
   ]
  },
  {
   "cell_type": "code",
   "execution_count": 37,
   "metadata": {},
   "outputs": [
    {
     "data": {
      "text/html": [
       "<div>\n",
       "<style scoped>\n",
       "    .dataframe tbody tr th:only-of-type {\n",
       "        vertical-align: middle;\n",
       "    }\n",
       "\n",
       "    .dataframe tbody tr th {\n",
       "        vertical-align: top;\n",
       "    }\n",
       "\n",
       "    .dataframe thead th {\n",
       "        text-align: right;\n",
       "    }\n",
       "</style>\n",
       "<table border=\"1\" class=\"dataframe\">\n",
       "  <thead>\n",
       "    <tr style=\"text-align: right;\">\n",
       "      <th></th>\n",
       "      <th>episode_duration</th>\n",
       "      <th>clasificación_dur_ep</th>\n",
       "      <th>episode_title</th>\n",
       "      <th>podcast_permalink</th>\n",
       "      <th>podcast_topic</th>\n",
       "    </tr>\n",
       "  </thead>\n",
       "  <tbody>\n",
       "    <tr>\n",
       "      <th>2</th>\n",
       "      <td>58.553983</td>\n",
       "      <td>30-60 mins</td>\n",
       "      <td>A través de un espejo - 31/10/19</td>\n",
       "      <td>RADIO-CLASICA</td>\n",
       "      <td>Música</td>\n",
       "    </tr>\n",
       "    <tr>\n",
       "      <th>3</th>\n",
       "      <td>53.356583</td>\n",
       "      <td>30-60 mins</td>\n",
       "      <td>Encuentros con la vida después de la vida</td>\n",
       "      <td>RADIO-NACIONAL</td>\n",
       "      <td>Entretenimiento</td>\n",
       "    </tr>\n",
       "    <tr>\n",
       "      <th>5</th>\n",
       "      <td>53.786733</td>\n",
       "      <td>30-60 mins</td>\n",
       "      <td>El pueblo de los avistamientos</td>\n",
       "      <td>RADIO-NACIONAL</td>\n",
       "      <td>Entretenimiento</td>\n",
       "    </tr>\n",
       "    <tr>\n",
       "      <th>6</th>\n",
       "      <td>59.141750</td>\n",
       "      <td>30-60 mins</td>\n",
       "      <td>Música de Stevie Wonder</td>\n",
       "      <td>RADIO-3</td>\n",
       "      <td>Música</td>\n",
       "    </tr>\n",
       "    <tr>\n",
       "      <th>14</th>\n",
       "      <td>58.916267</td>\n",
       "      <td>30-60 mins</td>\n",
       "      <td>... Y 27 años de sintonías propias</td>\n",
       "      <td>RADIO-3</td>\n",
       "      <td>Música</td>\n",
       "    </tr>\n",
       "  </tbody>\n",
       "</table>\n",
       "</div>"
      ],
      "text/plain": [
       "    episode_duration clasificación_dur_ep  \\\n",
       "2          58.553983           30-60 mins   \n",
       "3          53.356583           30-60 mins   \n",
       "5          53.786733           30-60 mins   \n",
       "6          59.141750           30-60 mins   \n",
       "14         58.916267           30-60 mins   \n",
       "\n",
       "                                episode_title podcast_permalink  \\\n",
       "2           A través de un espejo - 31/10/19      RADIO-CLASICA   \n",
       "3   Encuentros con la vida después de la vida    RADIO-NACIONAL   \n",
       "5             El pueblo de los avistamientos     RADIO-NACIONAL   \n",
       "6                     Música de Stevie Wonder           RADIO-3   \n",
       "14         ... Y 27 años de sintonías propias           RADIO-3   \n",
       "\n",
       "      podcast_topic  \n",
       "2            Música  \n",
       "3   Entretenimiento  \n",
       "5   Entretenimiento  \n",
       "6            Música  \n",
       "14           Música  "
      ]
     },
     "execution_count": 37,
     "metadata": {},
     "output_type": "execute_result"
    }
   ],
   "source": [
    "filtro_duración (35)"
   ]
  },
  {
   "cell_type": "code",
   "execution_count": 38,
   "metadata": {},
   "outputs": [
    {
     "data": {
      "text/html": [
       "<div>\n",
       "<style scoped>\n",
       "    .dataframe tbody tr th:only-of-type {\n",
       "        vertical-align: middle;\n",
       "    }\n",
       "\n",
       "    .dataframe tbody tr th {\n",
       "        vertical-align: top;\n",
       "    }\n",
       "\n",
       "    .dataframe thead th {\n",
       "        text-align: right;\n",
       "    }\n",
       "</style>\n",
       "<table border=\"1\" class=\"dataframe\">\n",
       "  <thead>\n",
       "    <tr style=\"text-align: right;\">\n",
       "      <th></th>\n",
       "      <th>episode_duration</th>\n",
       "      <th>clasificación_dur_ep</th>\n",
       "      <th>episode_title</th>\n",
       "      <th>podcast_permalink</th>\n",
       "      <th>podcast_topic</th>\n",
       "    </tr>\n",
       "  </thead>\n",
       "  <tbody>\n",
       "    <tr>\n",
       "      <th>13</th>\n",
       "      <td>7.409617</td>\n",
       "      <td>&lt;30 mins</td>\n",
       "      <td>Los partidos comienzan la campaña de cara al 10N</td>\n",
       "      <td>RADIO-NACIONAL</td>\n",
       "      <td>Informativos</td>\n",
       "    </tr>\n",
       "    <tr>\n",
       "      <th>18</th>\n",
       "      <td>17.902583</td>\n",
       "      <td>&lt;30 mins</td>\n",
       "      <td>Gente despierta - Matemáticas aterradoras.</td>\n",
       "      <td>RADIO-NACIONAL</td>\n",
       "      <td>Magacín</td>\n",
       "    </tr>\n",
       "    <tr>\n",
       "      <th>36</th>\n",
       "      <td>2.965767</td>\n",
       "      <td>&lt;30 mins</td>\n",
       "      <td>Así se dirigen los partidos a sus votantes</td>\n",
       "      <td>RADIO-NACIONAL</td>\n",
       "      <td>Informativos</td>\n",
       "    </tr>\n",
       "    <tr>\n",
       "      <th>46</th>\n",
       "      <td>5.187033</td>\n",
       "      <td>&lt;30 mins</td>\n",
       "      <td>BOLETIN RNE - 01.11.19 - 01.00 H</td>\n",
       "      <td>RADIO-NACIONAL</td>\n",
       "      <td>Informativos</td>\n",
       "    </tr>\n",
       "    <tr>\n",
       "      <th>58</th>\n",
       "      <td>3.647550</td>\n",
       "      <td>&lt;30 mins</td>\n",
       "      <td>Noche de las ánimas</td>\n",
       "      <td>RADIO-5</td>\n",
       "      <td>Cultura</td>\n",
       "    </tr>\n",
       "  </tbody>\n",
       "</table>\n",
       "</div>"
      ],
      "text/plain": [
       "    episode_duration clasificación_dur_ep  \\\n",
       "13          7.409617             <30 mins   \n",
       "18         17.902583             <30 mins   \n",
       "36          2.965767             <30 mins   \n",
       "46          5.187033             <30 mins   \n",
       "58          3.647550             <30 mins   \n",
       "\n",
       "                                       episode_title podcast_permalink  \\\n",
       "13  Los partidos comienzan la campaña de cara al 10N    RADIO-NACIONAL   \n",
       "18        Gente despierta - Matemáticas aterradoras.    RADIO-NACIONAL   \n",
       "36       Así se dirigen los partidos a sus votantes     RADIO-NACIONAL   \n",
       "46                  BOLETIN RNE - 01.11.19 - 01.00 H    RADIO-NACIONAL   \n",
       "58                               Noche de las ánimas           RADIO-5   \n",
       "\n",
       "   podcast_topic  \n",
       "13  Informativos  \n",
       "18       Magacín  \n",
       "36  Informativos  \n",
       "46  Informativos  \n",
       "58       Cultura  "
      ]
     },
     "execution_count": 38,
     "metadata": {},
     "output_type": "execute_result"
    }
   ],
   "source": [
    "filtro_duración (20)"
   ]
  },
  {
   "cell_type": "markdown",
   "metadata": {},
   "source": [
    "_Gráfico sobre la duración de los podcast._"
   ]
  },
  {
   "cell_type": "code",
   "execution_count": 39,
   "metadata": {},
   "outputs": [
    {
     "data": {
      "text/plain": [
       "<matplotlib.axes._subplots.AxesSubplot at 0x231ad5f0548>"
      ]
     },
     "execution_count": 39,
     "metadata": {},
     "output_type": "execute_result"
    },
    {
     "data": {
      "image/png": "[encoded data removed]",
      "text/plain": [
       "<Figure size 432x288 with 1 Axes>"
      ]
     },
     "metadata": {
      "needs_background": "light"
     },
     "output_type": "display_data"
    }
   ],
   "source": [
    "Datos.groupby('clasificación_dur_ep')['clasificación_dur_ep'].count().plot(kind='bar')"
   ]
  },
  {
   "cell_type": "code",
   "execution_count": 40,
   "metadata": {},
   "outputs": [
    {
     "data": {
      "text/plain": [
       "<matplotlib.axes._subplots.AxesSubplot at 0x231ae624a08>"
      ]
     },
     "execution_count": 40,
     "metadata": {},
     "output_type": "execute_result"
    },
    {
     "data": {
      "image/png": "[encoded data removed]",
      "text/plain": [
       "<Figure size 432x288 with 1 Axes>"
      ]
     },
     "metadata": {},
     "output_type": "display_data"
    }
   ],
   "source": [
    "Datos.groupby('clasificación_dur_ep')['clasificación_dur_ep'].count().plot(kind='pie')"
   ]
  },
  {
   "cell_type": "markdown",
   "metadata": {},
   "source": [
    "**Estadísticas sobre el tema de los podcast recogidos en los datos.**"
   ]
  },
  {
   "cell_type": "code",
   "execution_count": 41,
   "metadata": {},
   "outputs": [
    {
     "data": {
      "text/plain": [
       "Música                        3021\n",
       "Magacín                        902\n",
       "Informativos                   661\n",
       "Entretenimiento                568\n",
       "Documentales                   177\n",
       "Cultura                        146\n",
       "Ciencia y Tecnología            71\n",
       "Archivo RNE                     58\n",
       "Servicio público                46\n",
       "Informativos territoriales      37\n",
       "Deportes                        34\n",
       "Viajes                          30\n",
       "RNE solo en Podcast             21\n",
       "Educación                       11\n",
       "Cine                             9\n",
       "Infantiles                       9\n",
       "Recetas                          5\n",
       "20 aniversario de Radio 5        1\n",
       "Series                           1\n",
       "R                                1\n",
       "Name: podcast_topic, dtype: int64"
      ]
     },
     "execution_count": 41,
     "metadata": {},
     "output_type": "execute_result"
    }
   ],
   "source": [
    "#Recapitulando, los distintos podcast_topic son:\n",
    "Datos['podcast_topic'].value_counts(dropna=False)"
   ]
  },
  {
   "cell_type": "code",
   "execution_count": 42,
   "metadata": {},
   "outputs": [
    {
     "data": {
      "text/plain": [
       "<matplotlib.axes._subplots.AxesSubplot at 0x231ae682048>"
      ]
     },
     "execution_count": 42,
     "metadata": {},
     "output_type": "execute_result"
    },
    {
     "data": {
      "image/png": "[encoded data removed]",
      "text/plain": [
       "<Figure size 432x288 with 1 Axes>"
      ]
     },
     "metadata": {
      "needs_background": "light"
     },
     "output_type": "display_data"
    }
   ],
   "source": [
    "#Representación de los podcast por temática en un gráfico.\n",
    "Datos.groupby('podcast_topic')['podcast_topic'].count().plot(kind='bar')"
   ]
  },
  {
   "cell_type": "markdown",
   "metadata": {},
   "source": [
    "Gráfico comparativo entre los topics y las horas en las que se escuchan."
   ]
  },
  {
   "cell_type": "code",
   "execution_count": 43,
   "metadata": {},
   "outputs": [
    {
     "data": {
      "text/html": [
       "<div>\n",
       "<style scoped>\n",
       "    .dataframe tbody tr th:only-of-type {\n",
       "        vertical-align: middle;\n",
       "    }\n",
       "\n",
       "    .dataframe tbody tr th {\n",
       "        vertical-align: top;\n",
       "    }\n",
       "\n",
       "    .dataframe thead th {\n",
       "        text-align: right;\n",
       "    }\n",
       "</style>\n",
       "<table border=\"1\" class=\"dataframe\">\n",
       "  <thead>\n",
       "    <tr style=\"text-align: right;\">\n",
       "      <th></th>\n",
       "      <th>date</th>\n",
       "      <th>metric</th>\n",
       "      <th>user</th>\n",
       "      <th>referer</th>\n",
       "      <th>os_family</th>\n",
       "      <th>browser_family</th>\n",
       "      <th>device_family</th>\n",
       "      <th>episode_file_path</th>\n",
       "      <th>episode_title</th>\n",
       "      <th>episode_duration</th>\n",
       "      <th>podcast_title</th>\n",
       "      <th>podcast_permalink</th>\n",
       "      <th>podcast_topic</th>\n",
       "      <th>city</th>\n",
       "      <th>region</th>\n",
       "      <th>country</th>\n",
       "      <th>time_zone</th>\n",
       "      <th>hora</th>\n",
       "      <th>minutos</th>\n",
       "      <th>clasificación_dur_ep</th>\n",
       "    </tr>\n",
       "  </thead>\n",
       "  <tbody>\n",
       "    <tr>\n",
       "      <th>0</th>\n",
       "      <td>2019-11-01T00:56:36.000</td>\n",
       "      <td>Número de descargas de tipo 206</td>\n",
       "      <td>6624207285322504776</td>\n",
       "      <td>NaN</td>\n",
       "      <td>Android</td>\n",
       "      <td>Android</td>\n",
       "      <td>Smartphone</td>\n",
       "      <td>1572564777864.mp3</td>\n",
       "      <td>Análisis de la información - 31/10/19</td>\n",
       "      <td>77.91475</td>\n",
       "      <td>24 horas</td>\n",
       "      <td>RADIO-NACIONAL</td>\n",
       "      <td>Informativos</td>\n",
       "      <td>Palencia</td>\n",
       "      <td>Castilla y León</td>\n",
       "      <td>España</td>\n",
       "      <td>Europe/Madrid</td>\n",
       "      <td>0</td>\n",
       "      <td>56</td>\n",
       "      <td>&gt;60 mins</td>\n",
       "    </tr>\n",
       "  </tbody>\n",
       "</table>\n",
       "</div>"
      ],
      "text/plain": [
       "                      date                           metric  \\\n",
       "0  2019-11-01T00:56:36.000  Número de descargas de tipo 206   \n",
       "\n",
       "                  user referer os_family browser_family device_family  \\\n",
       "0  6624207285322504776     NaN   Android        Android    Smartphone   \n",
       "\n",
       "   episode_file_path                           episode_title  \\\n",
       "0  1572564777864.mp3  Análisis de la información - 31/10/19    \n",
       "\n",
       "   episode_duration podcast_title podcast_permalink podcast_topic      city  \\\n",
       "0          77.91475      24 horas    RADIO-NACIONAL  Informativos  Palencia   \n",
       "\n",
       "            region country      time_zone  hora  minutos clasificación_dur_ep  \n",
       "0  Castilla y León  España  Europe/Madrid     0       56             >60 mins  "
      ]
     },
     "execution_count": 43,
     "metadata": {},
     "output_type": "execute_result"
    }
   ],
   "source": [
    "Datos.head(1)"
   ]
  },
  {
   "cell_type": "code",
   "execution_count": 44,
   "metadata": {},
   "outputs": [],
   "source": [
    "#Para el gráfico, eliminamos los datos NaN\n",
    "#Creamos una nueva tabla con los datos que tenemos\n",
    "\n",
    "Reprod_podcast = Datos[['podcast_topic', 'hora']]\n",
    "\n"
   ]
  },
  {
   "cell_type": "code",
   "execution_count": 45,
   "metadata": {},
   "outputs": [
    {
     "data": {
      "text/html": [
       "<div>\n",
       "<style scoped>\n",
       "    .dataframe tbody tr th:only-of-type {\n",
       "        vertical-align: middle;\n",
       "    }\n",
       "\n",
       "    .dataframe tbody tr th {\n",
       "        vertical-align: top;\n",
       "    }\n",
       "\n",
       "    .dataframe thead th {\n",
       "        text-align: right;\n",
       "    }\n",
       "</style>\n",
       "<table border=\"1\" class=\"dataframe\">\n",
       "  <thead>\n",
       "    <tr style=\"text-align: right;\">\n",
       "      <th></th>\n",
       "      <th>podcast_topic</th>\n",
       "      <th>hora</th>\n",
       "    </tr>\n",
       "  </thead>\n",
       "  <tbody>\n",
       "    <tr>\n",
       "      <th>0</th>\n",
       "      <td>Informativos</td>\n",
       "      <td>0</td>\n",
       "    </tr>\n",
       "    <tr>\n",
       "      <th>1</th>\n",
       "      <td>Informativos</td>\n",
       "      <td>1</td>\n",
       "    </tr>\n",
       "    <tr>\n",
       "      <th>2</th>\n",
       "      <td>Música</td>\n",
       "      <td>0</td>\n",
       "    </tr>\n",
       "    <tr>\n",
       "      <th>3</th>\n",
       "      <td>Entretenimiento</td>\n",
       "      <td>1</td>\n",
       "    </tr>\n",
       "    <tr>\n",
       "      <th>5</th>\n",
       "      <td>Entretenimiento</td>\n",
       "      <td>0</td>\n",
       "    </tr>\n",
       "  </tbody>\n",
       "</table>\n",
       "</div>"
      ],
      "text/plain": [
       "     podcast_topic  hora\n",
       "0     Informativos     0\n",
       "1     Informativos     1\n",
       "2           Música     0\n",
       "3  Entretenimiento     1\n",
       "5  Entretenimiento     0"
      ]
     },
     "execution_count": 45,
     "metadata": {},
     "output_type": "execute_result"
    }
   ],
   "source": [
    "Reprod_podcast.head()"
   ]
  },
  {
   "cell_type": "code",
   "execution_count": 46,
   "metadata": {},
   "outputs": [
    {
     "data": {
      "text/html": [
       "<div>\n",
       "<style scoped>\n",
       "    .dataframe tbody tr th:only-of-type {\n",
       "        vertical-align: middle;\n",
       "    }\n",
       "\n",
       "    .dataframe tbody tr th {\n",
       "        vertical-align: top;\n",
       "    }\n",
       "\n",
       "    .dataframe thead th {\n",
       "        text-align: right;\n",
       "    }\n",
       "</style>\n",
       "<table border=\"1\" class=\"dataframe\">\n",
       "  <thead>\n",
       "    <tr style=\"text-align: right;\">\n",
       "      <th></th>\n",
       "      <th>podcast_topic</th>\n",
       "      <th>hora</th>\n",
       "    </tr>\n",
       "  </thead>\n",
       "  <tbody>\n",
       "    <tr>\n",
       "      <th>0</th>\n",
       "      <td>Informativos</td>\n",
       "      <td>0</td>\n",
       "    </tr>\n",
       "    <tr>\n",
       "      <th>1</th>\n",
       "      <td>Informativos</td>\n",
       "      <td>1</td>\n",
       "    </tr>\n",
       "    <tr>\n",
       "      <th>2</th>\n",
       "      <td>Música</td>\n",
       "      <td>0</td>\n",
       "    </tr>\n",
       "    <tr>\n",
       "      <th>3</th>\n",
       "      <td>Entretenimiento</td>\n",
       "      <td>1</td>\n",
       "    </tr>\n",
       "    <tr>\n",
       "      <th>5</th>\n",
       "      <td>Entretenimiento</td>\n",
       "      <td>0</td>\n",
       "    </tr>\n",
       "    <tr>\n",
       "      <th>...</th>\n",
       "      <td>...</td>\n",
       "      <td>...</td>\n",
       "    </tr>\n",
       "    <tr>\n",
       "      <th>9993</th>\n",
       "      <td>Música</td>\n",
       "      <td>14</td>\n",
       "    </tr>\n",
       "    <tr>\n",
       "      <th>9994</th>\n",
       "      <td>Música</td>\n",
       "      <td>14</td>\n",
       "    </tr>\n",
       "    <tr>\n",
       "      <th>9995</th>\n",
       "      <td>Magacín</td>\n",
       "      <td>14</td>\n",
       "    </tr>\n",
       "    <tr>\n",
       "      <th>9997</th>\n",
       "      <td>Magacín</td>\n",
       "      <td>14</td>\n",
       "    </tr>\n",
       "    <tr>\n",
       "      <th>9998</th>\n",
       "      <td>Música</td>\n",
       "      <td>14</td>\n",
       "    </tr>\n",
       "  </tbody>\n",
       "</table>\n",
       "<p>5809 rows × 2 columns</p>\n",
       "</div>"
      ],
      "text/plain": [
       "        podcast_topic  hora\n",
       "0        Informativos     0\n",
       "1        Informativos     1\n",
       "2              Música     0\n",
       "3     Entretenimiento     1\n",
       "5     Entretenimiento     0\n",
       "...               ...   ...\n",
       "9993           Música    14\n",
       "9994           Música    14\n",
       "9995          Magacín    14\n",
       "9997          Magacín    14\n",
       "9998           Música    14\n",
       "\n",
       "[5809 rows x 2 columns]"
      ]
     },
     "execution_count": 46,
     "metadata": {},
     "output_type": "execute_result"
    }
   ],
   "source": [
    "Reprod_podcast"
   ]
  },
  {
   "cell_type": "code",
   "execution_count": 47,
   "metadata": {},
   "outputs": [
    {
     "data": {
      "text/html": [
       "<div>\n",
       "<style scoped>\n",
       "    .dataframe tbody tr th:only-of-type {\n",
       "        vertical-align: middle;\n",
       "    }\n",
       "\n",
       "    .dataframe tbody tr th {\n",
       "        vertical-align: top;\n",
       "    }\n",
       "\n",
       "    .dataframe thead th {\n",
       "        text-align: right;\n",
       "    }\n",
       "</style>\n",
       "<table border=\"1\" class=\"dataframe\">\n",
       "  <thead>\n",
       "    <tr style=\"text-align: right;\">\n",
       "      <th></th>\n",
       "      <th>hora</th>\n",
       "    </tr>\n",
       "    <tr>\n",
       "      <th>podcast_topic</th>\n",
       "      <th></th>\n",
       "    </tr>\n",
       "  </thead>\n",
       "  <tbody>\n",
       "    <tr>\n",
       "      <th>20 aniversario de Radio 5</th>\n",
       "      <td>1</td>\n",
       "    </tr>\n",
       "    <tr>\n",
       "      <th>Archivo RNE</th>\n",
       "      <td>58</td>\n",
       "    </tr>\n",
       "    <tr>\n",
       "      <th>Ciencia y Tecnología</th>\n",
       "      <td>71</td>\n",
       "    </tr>\n",
       "    <tr>\n",
       "      <th>Cine</th>\n",
       "      <td>9</td>\n",
       "    </tr>\n",
       "    <tr>\n",
       "      <th>Cultura</th>\n",
       "      <td>146</td>\n",
       "    </tr>\n",
       "    <tr>\n",
       "      <th>Deportes</th>\n",
       "      <td>34</td>\n",
       "    </tr>\n",
       "    <tr>\n",
       "      <th>Documentales</th>\n",
       "      <td>177</td>\n",
       "    </tr>\n",
       "    <tr>\n",
       "      <th>Educación</th>\n",
       "      <td>11</td>\n",
       "    </tr>\n",
       "    <tr>\n",
       "      <th>Entretenimiento</th>\n",
       "      <td>568</td>\n",
       "    </tr>\n",
       "    <tr>\n",
       "      <th>Infantiles</th>\n",
       "      <td>9</td>\n",
       "    </tr>\n",
       "    <tr>\n",
       "      <th>Informativos</th>\n",
       "      <td>661</td>\n",
       "    </tr>\n",
       "    <tr>\n",
       "      <th>Informativos territoriales</th>\n",
       "      <td>37</td>\n",
       "    </tr>\n",
       "    <tr>\n",
       "      <th>Magacín</th>\n",
       "      <td>902</td>\n",
       "    </tr>\n",
       "    <tr>\n",
       "      <th>Música</th>\n",
       "      <td>3021</td>\n",
       "    </tr>\n",
       "    <tr>\n",
       "      <th>R</th>\n",
       "      <td>1</td>\n",
       "    </tr>\n",
       "    <tr>\n",
       "      <th>RNE solo en Podcast</th>\n",
       "      <td>21</td>\n",
       "    </tr>\n",
       "    <tr>\n",
       "      <th>Recetas</th>\n",
       "      <td>5</td>\n",
       "    </tr>\n",
       "    <tr>\n",
       "      <th>Series</th>\n",
       "      <td>1</td>\n",
       "    </tr>\n",
       "    <tr>\n",
       "      <th>Servicio público</th>\n",
       "      <td>46</td>\n",
       "    </tr>\n",
       "    <tr>\n",
       "      <th>Viajes</th>\n",
       "      <td>30</td>\n",
       "    </tr>\n",
       "  </tbody>\n",
       "</table>\n",
       "</div>"
      ],
      "text/plain": [
       "                            hora\n",
       "podcast_topic                   \n",
       "20 aniversario de Radio 5      1\n",
       "Archivo RNE                   58\n",
       "Ciencia y Tecnología          71\n",
       "Cine                           9\n",
       "Cultura                      146\n",
       "Deportes                      34\n",
       "Documentales                 177\n",
       "Educación                     11\n",
       "Entretenimiento              568\n",
       "Infantiles                     9\n",
       "Informativos                 661\n",
       "Informativos territoriales    37\n",
       "Magacín                      902\n",
       "Música                      3021\n",
       "R                              1\n",
       "RNE solo en Podcast           21\n",
       "Recetas                        5\n",
       "Series                         1\n",
       "Servicio público              46\n",
       "Viajes                        30"
      ]
     },
     "execution_count": 47,
     "metadata": {},
     "output_type": "execute_result"
    }
   ],
   "source": [
    "Reprod_podcast.groupby('podcast_topic').count()"
   ]
  },
  {
   "cell_type": "code",
   "execution_count": 48,
   "metadata": {},
   "outputs": [],
   "source": [
    "def podcast_horas (topic):\n",
    "    \n",
    "\n",
    "    podcast_horas= Reprod_podcast[Reprod_podcast.podcast_topic.isin([topic])]\n",
    "    \n",
    "    return podcast_horas.groupby('hora').count()"
   ]
  },
  {
   "cell_type": "code",
   "execution_count": 49,
   "metadata": {},
   "outputs": [
    {
     "data": {
      "text/html": [
       "<div>\n",
       "<style scoped>\n",
       "    .dataframe tbody tr th:only-of-type {\n",
       "        vertical-align: middle;\n",
       "    }\n",
       "\n",
       "    .dataframe tbody tr th {\n",
       "        vertical-align: top;\n",
       "    }\n",
       "\n",
       "    .dataframe thead th {\n",
       "        text-align: right;\n",
       "    }\n",
       "</style>\n",
       "<table border=\"1\" class=\"dataframe\">\n",
       "  <thead>\n",
       "    <tr style=\"text-align: right;\">\n",
       "      <th></th>\n",
       "      <th>podcast_topic</th>\n",
       "    </tr>\n",
       "    <tr>\n",
       "      <th>hora</th>\n",
       "      <th></th>\n",
       "    </tr>\n",
       "  </thead>\n",
       "  <tbody>\n",
       "    <tr>\n",
       "      <th>0</th>\n",
       "      <td>205</td>\n",
       "    </tr>\n",
       "    <tr>\n",
       "      <th>1</th>\n",
       "      <td>84</td>\n",
       "    </tr>\n",
       "    <tr>\n",
       "      <th>2</th>\n",
       "      <td>12</td>\n",
       "    </tr>\n",
       "    <tr>\n",
       "      <th>3</th>\n",
       "      <td>14</td>\n",
       "    </tr>\n",
       "    <tr>\n",
       "      <th>4</th>\n",
       "      <td>4</td>\n",
       "    </tr>\n",
       "    <tr>\n",
       "      <th>5</th>\n",
       "      <td>23</td>\n",
       "    </tr>\n",
       "    <tr>\n",
       "      <th>6</th>\n",
       "      <td>28</td>\n",
       "    </tr>\n",
       "    <tr>\n",
       "      <th>7</th>\n",
       "      <td>103</td>\n",
       "    </tr>\n",
       "    <tr>\n",
       "      <th>8</th>\n",
       "      <td>245</td>\n",
       "    </tr>\n",
       "    <tr>\n",
       "      <th>9</th>\n",
       "      <td>278</td>\n",
       "    </tr>\n",
       "    <tr>\n",
       "      <th>10</th>\n",
       "      <td>246</td>\n",
       "    </tr>\n",
       "    <tr>\n",
       "      <th>11</th>\n",
       "      <td>558</td>\n",
       "    </tr>\n",
       "    <tr>\n",
       "      <th>12</th>\n",
       "      <td>271</td>\n",
       "    </tr>\n",
       "    <tr>\n",
       "      <th>13</th>\n",
       "      <td>281</td>\n",
       "    </tr>\n",
       "    <tr>\n",
       "      <th>14</th>\n",
       "      <td>175</td>\n",
       "    </tr>\n",
       "    <tr>\n",
       "      <th>15</th>\n",
       "      <td>85</td>\n",
       "    </tr>\n",
       "    <tr>\n",
       "      <th>16</th>\n",
       "      <td>160</td>\n",
       "    </tr>\n",
       "    <tr>\n",
       "      <th>17</th>\n",
       "      <td>70</td>\n",
       "    </tr>\n",
       "    <tr>\n",
       "      <th>18</th>\n",
       "      <td>95</td>\n",
       "    </tr>\n",
       "    <tr>\n",
       "      <th>19</th>\n",
       "      <td>51</td>\n",
       "    </tr>\n",
       "    <tr>\n",
       "      <th>20</th>\n",
       "      <td>1</td>\n",
       "    </tr>\n",
       "    <tr>\n",
       "      <th>21</th>\n",
       "      <td>17</td>\n",
       "    </tr>\n",
       "    <tr>\n",
       "      <th>22</th>\n",
       "      <td>13</td>\n",
       "    </tr>\n",
       "    <tr>\n",
       "      <th>23</th>\n",
       "      <td>2</td>\n",
       "    </tr>\n",
       "  </tbody>\n",
       "</table>\n",
       "</div>"
      ],
      "text/plain": [
       "      podcast_topic\n",
       "hora               \n",
       "0               205\n",
       "1                84\n",
       "2                12\n",
       "3                14\n",
       "4                 4\n",
       "5                23\n",
       "6                28\n",
       "7               103\n",
       "8               245\n",
       "9               278\n",
       "10              246\n",
       "11              558\n",
       "12              271\n",
       "13              281\n",
       "14              175\n",
       "15               85\n",
       "16              160\n",
       "17               70\n",
       "18               95\n",
       "19               51\n",
       "20                1\n",
       "21               17\n",
       "22               13\n",
       "23                2"
      ]
     },
     "execution_count": 49,
     "metadata": {},
     "output_type": "execute_result"
    }
   ],
   "source": [
    "podcast_horas('Música')"
   ]
  },
  {
   "cell_type": "code",
   "execution_count": 50,
   "metadata": {},
   "outputs": [
    {
     "name": "stdout",
     "output_type": "stream",
     "text": [
      "      podcast_topic  Música  Magacín  Informativos  Entretenimiento  Cultura  \\\n",
      "hora                                                                           \n",
      "0               689     205     82.0         105.0            194.0     19.0   \n",
      "1               322      84     34.0          52.0            101.0     12.0   \n",
      "2                77      12      6.0          15.0             26.0      2.0   \n",
      "3                69      14     12.0          10.0             23.0      2.0   \n",
      "4                 6       4      NaN           NaN              1.0      NaN   \n",
      "5               106      23     26.0          23.0             17.0      3.0   \n",
      "6                77      28     17.0          13.0              6.0      1.0   \n",
      "7               257     103     67.0          39.0             15.0      6.0   \n",
      "8               419     245     72.0          40.0             19.0      7.0   \n",
      "9               457     278     52.0          62.0             23.0      5.0   \n",
      "10              380     246     49.0          40.0              8.0     18.0   \n",
      "11              813     558     91.0          85.0             21.0     21.0   \n",
      "12              455     271    105.0          33.0             15.0      4.0   \n",
      "13              476     281     94.0          35.0             23.0     12.0   \n",
      "14              309     175     43.0          24.0             19.0      8.0   \n",
      "15              165      85     42.0          13.0              8.0      7.0   \n",
      "16              247     160     24.0          24.0             15.0      4.0   \n",
      "17              118      70     15.0          10.0              8.0      2.0   \n",
      "18              181      95     36.0          14.0             10.0      8.0   \n",
      "19               71      51      6.0           2.0              4.0      1.0   \n",
      "20                2       1      NaN           NaN              NaN      NaN   \n",
      "21               54      17     13.0          10.0              6.0      1.0   \n",
      "22               55      13     15.0          12.0              6.0      3.0   \n",
      "23                4       2      1.0           NaN              NaN      NaN   \n",
      "\n",
      "      Documentales  \n",
      "hora                \n",
      "0             44.0  \n",
      "1             15.0  \n",
      "2              9.0  \n",
      "3              4.0  \n",
      "4              NaN  \n",
      "5              7.0  \n",
      "6              3.0  \n",
      "7             10.0  \n",
      "8              9.0  \n",
      "9             12.0  \n",
      "10             6.0  \n",
      "11            13.0  \n",
      "12            10.0  \n",
      "13             6.0  \n",
      "14            10.0  \n",
      "15             4.0  \n",
      "16             1.0  \n",
      "17             4.0  \n",
      "18             4.0  \n",
      "19             1.0  \n",
      "20             NaN  \n",
      "21             3.0  \n",
      "22             2.0  \n",
      "23             NaN  \n"
     ]
    }
   ],
   "source": [
    "lista=['Música', 'Magacín', 'Informativos', 'Entretenimiento', 'Cultura', 'Documentales']\n",
    "\n",
    "Horas_topic= Reprod_podcast.groupby('hora').count()\n",
    "\n",
    "for k in lista:\n",
    "    \n",
    "    Horas_topic[k]= Reprod_podcast[Reprod_podcast.podcast_topic==k].groupby('hora').count()\n",
    "   \n",
    "   \n",
    "print(Horas_topic)"
   ]
  },
  {
   "cell_type": "code",
   "execution_count": 51,
   "metadata": {},
   "outputs": [
    {
     "data": {
      "text/html": [
       "<div>\n",
       "<style scoped>\n",
       "    .dataframe tbody tr th:only-of-type {\n",
       "        vertical-align: middle;\n",
       "    }\n",
       "\n",
       "    .dataframe tbody tr th {\n",
       "        vertical-align: top;\n",
       "    }\n",
       "\n",
       "    .dataframe thead th {\n",
       "        text-align: right;\n",
       "    }\n",
       "</style>\n",
       "<table border=\"1\" class=\"dataframe\">\n",
       "  <thead>\n",
       "    <tr style=\"text-align: right;\">\n",
       "      <th></th>\n",
       "      <th>podcast_topic</th>\n",
       "      <th>Música</th>\n",
       "      <th>Magacín</th>\n",
       "      <th>Informativos</th>\n",
       "      <th>Entretenimiento</th>\n",
       "      <th>Cultura</th>\n",
       "      <th>Documentales</th>\n",
       "    </tr>\n",
       "    <tr>\n",
       "      <th>hora</th>\n",
       "      <th></th>\n",
       "      <th></th>\n",
       "      <th></th>\n",
       "      <th></th>\n",
       "      <th></th>\n",
       "      <th></th>\n",
       "      <th></th>\n",
       "    </tr>\n",
       "  </thead>\n",
       "  <tbody>\n",
       "    <tr>\n",
       "      <th>0</th>\n",
       "      <td>689</td>\n",
       "      <td>205</td>\n",
       "      <td>82.0</td>\n",
       "      <td>105.0</td>\n",
       "      <td>194.0</td>\n",
       "      <td>19.0</td>\n",
       "      <td>44.0</td>\n",
       "    </tr>\n",
       "    <tr>\n",
       "      <th>1</th>\n",
       "      <td>322</td>\n",
       "      <td>84</td>\n",
       "      <td>34.0</td>\n",
       "      <td>52.0</td>\n",
       "      <td>101.0</td>\n",
       "      <td>12.0</td>\n",
       "      <td>15.0</td>\n",
       "    </tr>\n",
       "    <tr>\n",
       "      <th>2</th>\n",
       "      <td>77</td>\n",
       "      <td>12</td>\n",
       "      <td>6.0</td>\n",
       "      <td>15.0</td>\n",
       "      <td>26.0</td>\n",
       "      <td>2.0</td>\n",
       "      <td>9.0</td>\n",
       "    </tr>\n",
       "    <tr>\n",
       "      <th>3</th>\n",
       "      <td>69</td>\n",
       "      <td>14</td>\n",
       "      <td>12.0</td>\n",
       "      <td>10.0</td>\n",
       "      <td>23.0</td>\n",
       "      <td>2.0</td>\n",
       "      <td>4.0</td>\n",
       "    </tr>\n",
       "    <tr>\n",
       "      <th>4</th>\n",
       "      <td>6</td>\n",
       "      <td>4</td>\n",
       "      <td>NaN</td>\n",
       "      <td>NaN</td>\n",
       "      <td>1.0</td>\n",
       "      <td>NaN</td>\n",
       "      <td>NaN</td>\n",
       "    </tr>\n",
       "  </tbody>\n",
       "</table>\n",
       "</div>"
      ],
      "text/plain": [
       "      podcast_topic  Música  Magacín  Informativos  Entretenimiento  Cultura  \\\n",
       "hora                                                                           \n",
       "0               689     205     82.0         105.0            194.0     19.0   \n",
       "1               322      84     34.0          52.0            101.0     12.0   \n",
       "2                77      12      6.0          15.0             26.0      2.0   \n",
       "3                69      14     12.0          10.0             23.0      2.0   \n",
       "4                 6       4      NaN           NaN              1.0      NaN   \n",
       "\n",
       "      Documentales  \n",
       "hora                \n",
       "0             44.0  \n",
       "1             15.0  \n",
       "2              9.0  \n",
       "3              4.0  \n",
       "4              NaN  "
      ]
     },
     "execution_count": 51,
     "metadata": {},
     "output_type": "execute_result"
    }
   ],
   "source": [
    "Horas_topic.head()"
   ]
  },
  {
   "cell_type": "code",
   "execution_count": 52,
   "metadata": {},
   "outputs": [
    {
     "data": {
      "text/plain": [
       "Index(['podcast_topic', 'Música', 'Magacín', 'Informativos', 'Entretenimiento',\n",
       "       'Cultura', 'Documentales'],\n",
       "      dtype='object')"
      ]
     },
     "execution_count": 52,
     "metadata": {},
     "output_type": "execute_result"
    }
   ],
   "source": [
    "Horas_topic.columns"
   ]
  },
  {
   "cell_type": "code",
   "execution_count": 53,
   "metadata": {},
   "outputs": [
    {
     "name": "stdout",
     "output_type": "stream",
     "text": [
      "<class 'pandas.core.frame.DataFrame'>\n",
      "Int64Index: 24 entries, 0 to 23\n",
      "Data columns (total 7 columns):\n",
      " #   Column           Non-Null Count  Dtype  \n",
      "---  ------           --------------  -----  \n",
      " 0   podcast_topic    24 non-null     int64  \n",
      " 1   Música           24 non-null     int64  \n",
      " 2   Magacín          22 non-null     float64\n",
      " 3   Informativos     21 non-null     float64\n",
      " 4   Entretenimiento  22 non-null     float64\n",
      " 5   Cultura          21 non-null     float64\n",
      " 6   Documentales     21 non-null     float64\n",
      "dtypes: float64(5), int64(2)\n",
      "memory usage: 1.5 KB\n"
     ]
    }
   ],
   "source": [
    "Horas_topic.info()"
   ]
  },
  {
   "cell_type": "code",
   "execution_count": 54,
   "metadata": {},
   "outputs": [],
   "source": [
    "#Cambiamos las columnas de tipo float a tipo int y sustituimos los datos NaN por 0\n",
    "#Eliminamos la columna podcast_topic\n",
    "\n",
    "Horas_topic= Horas_topic.fillna(0).astype(np.int64).drop(['podcast_topic'], axis=1)"
   ]
  },
  {
   "cell_type": "code",
   "execution_count": 55,
   "metadata": {},
   "outputs": [
    {
     "data": {
      "text/html": [
       "<div>\n",
       "<style scoped>\n",
       "    .dataframe tbody tr th:only-of-type {\n",
       "        vertical-align: middle;\n",
       "    }\n",
       "\n",
       "    .dataframe tbody tr th {\n",
       "        vertical-align: top;\n",
       "    }\n",
       "\n",
       "    .dataframe thead th {\n",
       "        text-align: right;\n",
       "    }\n",
       "</style>\n",
       "<table border=\"1\" class=\"dataframe\">\n",
       "  <thead>\n",
       "    <tr style=\"text-align: right;\">\n",
       "      <th></th>\n",
       "      <th>Música</th>\n",
       "      <th>Magacín</th>\n",
       "      <th>Informativos</th>\n",
       "      <th>Entretenimiento</th>\n",
       "      <th>Cultura</th>\n",
       "      <th>Documentales</th>\n",
       "    </tr>\n",
       "    <tr>\n",
       "      <th>hora</th>\n",
       "      <th></th>\n",
       "      <th></th>\n",
       "      <th></th>\n",
       "      <th></th>\n",
       "      <th></th>\n",
       "      <th></th>\n",
       "    </tr>\n",
       "  </thead>\n",
       "  <tbody>\n",
       "    <tr>\n",
       "      <th>0</th>\n",
       "      <td>205</td>\n",
       "      <td>82</td>\n",
       "      <td>105</td>\n",
       "      <td>194</td>\n",
       "      <td>19</td>\n",
       "      <td>44</td>\n",
       "    </tr>\n",
       "    <tr>\n",
       "      <th>1</th>\n",
       "      <td>84</td>\n",
       "      <td>34</td>\n",
       "      <td>52</td>\n",
       "      <td>101</td>\n",
       "      <td>12</td>\n",
       "      <td>15</td>\n",
       "    </tr>\n",
       "    <tr>\n",
       "      <th>2</th>\n",
       "      <td>12</td>\n",
       "      <td>6</td>\n",
       "      <td>15</td>\n",
       "      <td>26</td>\n",
       "      <td>2</td>\n",
       "      <td>9</td>\n",
       "    </tr>\n",
       "    <tr>\n",
       "      <th>3</th>\n",
       "      <td>14</td>\n",
       "      <td>12</td>\n",
       "      <td>10</td>\n",
       "      <td>23</td>\n",
       "      <td>2</td>\n",
       "      <td>4</td>\n",
       "    </tr>\n",
       "    <tr>\n",
       "      <th>4</th>\n",
       "      <td>4</td>\n",
       "      <td>0</td>\n",
       "      <td>0</td>\n",
       "      <td>1</td>\n",
       "      <td>0</td>\n",
       "      <td>0</td>\n",
       "    </tr>\n",
       "  </tbody>\n",
       "</table>\n",
       "</div>"
      ],
      "text/plain": [
       "      Música  Magacín  Informativos  Entretenimiento  Cultura  Documentales\n",
       "hora                                                                       \n",
       "0        205       82           105              194       19            44\n",
       "1         84       34            52              101       12            15\n",
       "2         12        6            15               26        2             9\n",
       "3         14       12            10               23        2             4\n",
       "4          4        0             0                1        0             0"
      ]
     },
     "execution_count": 55,
     "metadata": {},
     "output_type": "execute_result"
    }
   ],
   "source": [
    "Horas_topic.head()"
   ]
  },
  {
   "cell_type": "code",
   "execution_count": 56,
   "metadata": {},
   "outputs": [
    {
     "name": "stdout",
     "output_type": "stream",
     "text": [
      "<class 'pandas.core.frame.DataFrame'>\n",
      "Int64Index: 24 entries, 0 to 23\n",
      "Data columns (total 6 columns):\n",
      " #   Column           Non-Null Count  Dtype\n",
      "---  ------           --------------  -----\n",
      " 0   Música           24 non-null     int64\n",
      " 1   Magacín          24 non-null     int64\n",
      " 2   Informativos     24 non-null     int64\n",
      " 3   Entretenimiento  24 non-null     int64\n",
      " 4   Cultura          24 non-null     int64\n",
      " 5   Documentales     24 non-null     int64\n",
      "dtypes: int64(6)\n",
      "memory usage: 1.3 KB\n"
     ]
    }
   ],
   "source": [
    "Horas_topic.info()"
   ]
  },
  {
   "cell_type": "code",
   "execution_count": 57,
   "metadata": {},
   "outputs": [
    {
     "data": {
      "text/plain": [
       "<matplotlib.legend.Legend at 0x231ae767988>"
      ]
     },
     "execution_count": 57,
     "metadata": {},
     "output_type": "execute_result"
    },
    {
     "data": {
      "image/png": "[encoded data removed]",
      "text/plain": [
       "<Figure size 432x288 with 1 Axes>"
      ]
     },
     "metadata": {
      "needs_background": "light"
     },
     "output_type": "display_data"
    }
   ],
   "source": [
    "plt.plot( Horas_topic.index, Horas_topic.Música, label='Música')\n",
    "plt.plot( Horas_topic.index, Horas_topic.Magacín, label='Magacín')\n",
    "plt.plot( Horas_topic.index, Horas_topic.Informativos, label='Informativos')\n",
    "plt.plot( Horas_topic.index, Horas_topic.Entretenimiento, label='Entretenimiento')\n",
    "plt.plot( Horas_topic.index, Horas_topic.Cultura, label='Cultura')\n",
    "plt.plot( Horas_topic.index, Horas_topic.Documentales, label='Documentales')\n",
    "\n",
    "plt.title('Reprod de los Podcast topics VS. horas')\n",
    "plt.xlabel('Horas')\n",
    "plt.ylabel('Nº de reproducciones')\n",
    "\n",
    "\n",
    "plt.legend(loc='upper right')"
   ]
  },
  {
   "cell_type": "code",
   "execution_count": 58,
   "metadata": {},
   "outputs": [
    {
     "data": {
      "text/plain": [
       "Las mañanas de RNE con Pepa Fernández             533\n",
       "No es un día cualquiera                           102\n",
       "Gente despierta                                    96\n",
       "Solamente una vez                                  58\n",
       "El gallo que no cesa                               37\n",
       "Esto me suena. Las tardes del Ciudadano García     13\n",
       "La noche en vela                                   12\n",
       "De boca a orella a Ràdio 4                          8\n",
       "Punto de enlace                                     7\n",
       "Emisión en sefardí                                  5\n",
       "América hoy                                         4\n",
       "Emisión en árabe                                    4\n",
       "English Language Broadcast                          3\n",
       "El canto del grillo                                 2\n",
       "Venga la radio                                      2\n",
       "He venido aquí a hablar de lo mío                   2\n",
       "#estoqueestamoshaciendonotienenombre                2\n",
       "Abierto hasta las 2                                 2\n",
       "Emissão em Português                                2\n",
       "Són 4 dies                                          1\n",
       "En Directe a Ràdio 4                                1\n",
       "El millor de cada casa                              1\n",
       "Siluetas                                            1\n",
       "El verano en Radio 5                                1\n",
       "En un mundo feliz en R5                             1\n",
       "Canarias Mediodía - RNE                             1\n",
       "Viaje al centro de la noche                         1\n",
       "Name: podcast_title, dtype: int64"
      ]
     },
     "execution_count": 58,
     "metadata": {},
     "output_type": "execute_result"
    }
   ],
   "source": [
    "Datos[Datos.podcast_topic=='Magacín']['podcast_title'].value_counts(dropna=False)"
   ]
  },
  {
   "cell_type": "markdown",
   "metadata": {},
   "source": [
    "**Estadísticas sobre los podcasts por zonas geográficas**"
   ]
  },
  {
   "cell_type": "markdown",
   "metadata": {},
   "source": [
    "Primero vemos que países registran datos:"
   ]
  },
  {
   "cell_type": "code",
   "execution_count": 59,
   "metadata": {},
   "outputs": [
    {
     "data": {
      "text/plain": [
       "España            4851\n",
       "Reino Unido        118\n",
       "Estados Unidos     105\n",
       "Alemania            77\n",
       "Francia             72\n",
       "                  ... \n",
       "Croacia              1\n",
       "Mali                 1\n",
       "Jordania             1\n",
       "Argelia              1\n",
       "Islandia             1\n",
       "Name: country, Length: 78, dtype: int64"
      ]
     },
     "execution_count": 59,
     "metadata": {},
     "output_type": "execute_result"
    }
   ],
   "source": [
    "Datos['country'].value_counts(dropna=False)\n"
   ]
  },
  {
   "cell_type": "code",
   "execution_count": 60,
   "metadata": {},
   "outputs": [],
   "source": [
    "#Por debajo del límite eliminamos los valores.\n",
    "threshold = Datos['country'].value_counts().quantile(0.95)\n",
    "country_counts = Datos['country'].value_counts() \n",
    "to_remove = country_counts[country_counts <= threshold].index\n",
    "cc= country_counts.drop(to_remove)"
   ]
  },
  {
   "cell_type": "code",
   "execution_count": 61,
   "metadata": {},
   "outputs": [
    {
     "data": {
      "text/plain": [
       "Index(['Francia', 'Italia', 'Argentina', 'México', 'Suiza', 'Chile', 'Bélgica',\n",
       "       'Japón', 'Portugal', 'Irlanda', 'Colombia', 'Brasil', 'Polonia',\n",
       "       'Suecia', 'India', 'Perú', 'China', 'Canadá', 'Austria', 'Australia',\n",
       "       'Uruguay', 'Holanda', 'Ecuador', 'Corea del Sur', 'Guatemala',\n",
       "       'Costa Rica', 'Noruega', 'Marruecos', 'República Checa',\n",
       "       'República Dominicana', 'Hong Kong', 'Dinamarca', 'Venezuela', 'Rusia',\n",
       "       'Bulgaria', 'Andorra', 'Sudáfrica', 'Hungría', 'Mauritania', 'Singapur',\n",
       "       'Honduras', 'Vietnam', 'Turquía', 'Finlandia', 'Serbia', 'Tailandia',\n",
       "       'San Bartolomé', 'Líbano', 'Eslovaquia', 'Bolivia', 'Malasia',\n",
       "       'El Salvador', 'Luxemburgo', 'Lituania', 'Grecia', 'Níger', 'Reunión',\n",
       "       'Bahréin', 'Argelia', 'Guinea Ecuatorial', 'Croacia', 'Mali',\n",
       "       'Islandia', 'Territorios Palestinos', 'Jordania', 'Nueva Zelanda',\n",
       "       'Malta', 'Rumanía', 'Egipto', 'Timor Oriental', 'Filipinas', 'Panamá',\n",
       "       'Emiratos Árabes Unidos'],\n",
       "      dtype='object')"
      ]
     },
     "execution_count": 61,
     "metadata": {},
     "output_type": "execute_result"
    }
   ],
   "source": [
    "country_counts[country_counts <= threshold].index\n"
   ]
  },
  {
   "cell_type": "code",
   "execution_count": 62,
   "metadata": {},
   "outputs": [
    {
     "data": {
      "text/plain": [
       "España            4851\n",
       "Reino Unido        118\n",
       "Estados Unidos     105\n",
       "Alemania            77\n",
       "Name: country, dtype: int64"
      ]
     },
     "execution_count": 62,
     "metadata": {},
     "output_type": "execute_result"
    }
   ],
   "source": [
    "cc"
   ]
  },
  {
   "cell_type": "code",
   "execution_count": 63,
   "metadata": {},
   "outputs": [
    {
     "data": {
      "text/plain": [
       "<matplotlib.axes._subplots.AxesSubplot at 0x231ae801e48>"
      ]
     },
     "execution_count": 63,
     "metadata": {},
     "output_type": "execute_result"
    },
    {
     "data": {
      "image/png": "[encoded data removed]",
      "text/plain": [
       "<Figure size 432x288 with 1 Axes>"
      ]
     },
     "metadata": {},
     "output_type": "display_data"
    }
   ],
   "source": [
    "cc.plot(kind='pie')"
   ]
  },
  {
   "cell_type": "markdown",
   "metadata": {},
   "source": [
    "Para los datos de España, vamos a ver las zonas en las que más reproducciones hay:"
   ]
  },
  {
   "cell_type": "code",
   "execution_count": 64,
   "metadata": {},
   "outputs": [
    {
     "data": {
      "text/plain": [
       "Madrid                1326\n",
       "Andalucía              671\n",
       "Cataluña               584\n",
       "Valencia               483\n",
       "NaN                    278\n",
       "Castilla y León        258\n",
       "Galicia                208\n",
       "País Vasco             198\n",
       "Castilla-La Mancha     140\n",
       "Canarias               139\n",
       "Aragón                 126\n",
       "Murcia                  93\n",
       "Asturias                89\n",
       "Extremadura             66\n",
       "Baleares                62\n",
       "Navarra                 61\n",
       "La Rioja                36\n",
       "Cantabria               24\n",
       "Melilla                  5\n",
       "Ceuta                    4\n",
       "Name: region, dtype: int64"
      ]
     },
     "execution_count": 64,
     "metadata": {},
     "output_type": "execute_result"
    }
   ],
   "source": [
    "Datos['region'][Datos.country=='España'].value_counts(dropna=False)\n"
   ]
  },
  {
   "cell_type": "code",
   "execution_count": 65,
   "metadata": {},
   "outputs": [
    {
     "data": {
      "text/plain": [
       "<matplotlib.axes._subplots.AxesSubplot at 0x231ae845788>"
      ]
     },
     "execution_count": 65,
     "metadata": {},
     "output_type": "execute_result"
    },
    {
     "data": {
      "image/png": "[encoded data removed]",
      "text/plain": [
       "<Figure size 432x288 with 1 Axes>"
      ]
     },
     "metadata": {
      "needs_background": "light"
     },
     "output_type": "display_data"
    }
   ],
   "source": [
    "Datos['region'][Datos.country=='España'].value_counts(dropna=True).plot(kind='bar')"
   ]
  },
  {
   "cell_type": "markdown",
   "metadata": {},
   "source": [
    "Para los datos de la comunidad de Madrid, creamos una tabla que recoja el tema de los podcast y el permalink de los mismos:"
   ]
  },
  {
   "cell_type": "code",
   "execution_count": 66,
   "metadata": {},
   "outputs": [],
   "source": [
    "Temas_Madrid= Datos[['date', 'podcast_title', 'podcast_permalink', 'podcast_topic']][Datos.region=='Madrid']"
   ]
  },
  {
   "cell_type": "code",
   "execution_count": 67,
   "metadata": {},
   "outputs": [
    {
     "data": {
      "text/html": [
       "<div>\n",
       "<style scoped>\n",
       "    .dataframe tbody tr th:only-of-type {\n",
       "        vertical-align: middle;\n",
       "    }\n",
       "\n",
       "    .dataframe tbody tr th {\n",
       "        vertical-align: top;\n",
       "    }\n",
       "\n",
       "    .dataframe thead th {\n",
       "        text-align: right;\n",
       "    }\n",
       "</style>\n",
       "<table border=\"1\" class=\"dataframe\">\n",
       "  <thead>\n",
       "    <tr style=\"text-align: right;\">\n",
       "      <th></th>\n",
       "      <th>date</th>\n",
       "      <th>podcast_title</th>\n",
       "      <th>podcast_permalink</th>\n",
       "      <th>podcast_topic</th>\n",
       "    </tr>\n",
       "  </thead>\n",
       "  <tbody>\n",
       "    <tr>\n",
       "      <th>1</th>\n",
       "      <td>2019-11-01T01:27:37.000</td>\n",
       "      <td>24 horas</td>\n",
       "      <td>RADIO-NACIONAL</td>\n",
       "      <td>Informativos</td>\n",
       "    </tr>\n",
       "    <tr>\n",
       "      <th>5</th>\n",
       "      <td>2019-11-01T00:56:25.000</td>\n",
       "      <td>Espacio en blanco</td>\n",
       "      <td>RADIO-NACIONAL</td>\n",
       "      <td>Entretenimiento</td>\n",
       "    </tr>\n",
       "    <tr>\n",
       "      <th>6</th>\n",
       "      <td>2019-11-01T00:49:25.000</td>\n",
       "      <td>Cuando los elefantes sueñan con la música</td>\n",
       "      <td>RADIO-3</td>\n",
       "      <td>Música</td>\n",
       "    </tr>\n",
       "    <tr>\n",
       "      <th>17</th>\n",
       "      <td>2019-11-01T00:57:33.000</td>\n",
       "      <td>Espacio en blanco</td>\n",
       "      <td>RADIO-NACIONAL</td>\n",
       "      <td>Entretenimiento</td>\n",
       "    </tr>\n",
       "    <tr>\n",
       "      <th>18</th>\n",
       "      <td>2019-11-01T00:50:39.000</td>\n",
       "      <td>Gente despierta</td>\n",
       "      <td>RADIO-NACIONAL</td>\n",
       "      <td>Magacín</td>\n",
       "    </tr>\n",
       "    <tr>\n",
       "      <th>...</th>\n",
       "      <td>...</td>\n",
       "      <td>...</td>\n",
       "      <td>...</td>\n",
       "      <td>...</td>\n",
       "    </tr>\n",
       "    <tr>\n",
       "      <th>9953</th>\n",
       "      <td>2019-11-01T14:00:07.000</td>\n",
       "      <td>Sinfonía de la mañana</td>\n",
       "      <td>RADIO-CLASICA</td>\n",
       "      <td>Música</td>\n",
       "    </tr>\n",
       "    <tr>\n",
       "      <th>9958</th>\n",
       "      <td>2019-11-01T14:00:25.000</td>\n",
       "      <td>No es un día cualquiera</td>\n",
       "      <td>RADIO-NACIONAL</td>\n",
       "      <td>Magacín</td>\n",
       "    </tr>\n",
       "    <tr>\n",
       "      <th>9967</th>\n",
       "      <td>2019-11-01T14:00:28.000</td>\n",
       "      <td>Espacio en blanco</td>\n",
       "      <td>RADIO-NACIONAL</td>\n",
       "      <td>Entretenimiento</td>\n",
       "    </tr>\n",
       "    <tr>\n",
       "      <th>9983</th>\n",
       "      <td>2019-11-01T14:00:58.000</td>\n",
       "      <td>Documentos RNE</td>\n",
       "      <td>RADIO-NACIONAL</td>\n",
       "      <td>Documentales</td>\n",
       "    </tr>\n",
       "    <tr>\n",
       "      <th>9997</th>\n",
       "      <td>2019-11-01T14:00:32.000</td>\n",
       "      <td>Las mañanas de RNE con Pepa Fernández</td>\n",
       "      <td>RADIO-NACIONAL</td>\n",
       "      <td>Magacín</td>\n",
       "    </tr>\n",
       "  </tbody>\n",
       "</table>\n",
       "<p>1326 rows × 4 columns</p>\n",
       "</div>"
      ],
      "text/plain": [
       "                         date                              podcast_title  \\\n",
       "1     2019-11-01T01:27:37.000                                   24 horas   \n",
       "5     2019-11-01T00:56:25.000                          Espacio en blanco   \n",
       "6     2019-11-01T00:49:25.000  Cuando los elefantes sueñan con la música   \n",
       "17    2019-11-01T00:57:33.000                          Espacio en blanco   \n",
       "18    2019-11-01T00:50:39.000                            Gente despierta   \n",
       "...                       ...                                        ...   \n",
       "9953  2019-11-01T14:00:07.000                      Sinfonía de la mañana   \n",
       "9958  2019-11-01T14:00:25.000                    No es un día cualquiera   \n",
       "9967  2019-11-01T14:00:28.000                          Espacio en blanco   \n",
       "9983  2019-11-01T14:00:58.000                             Documentos RNE   \n",
       "9997  2019-11-01T14:00:32.000      Las mañanas de RNE con Pepa Fernández   \n",
       "\n",
       "     podcast_permalink    podcast_topic  \n",
       "1       RADIO-NACIONAL     Informativos  \n",
       "5       RADIO-NACIONAL  Entretenimiento  \n",
       "6              RADIO-3           Música  \n",
       "17      RADIO-NACIONAL  Entretenimiento  \n",
       "18      RADIO-NACIONAL          Magacín  \n",
       "...                ...              ...  \n",
       "9953     RADIO-CLASICA           Música  \n",
       "9958    RADIO-NACIONAL          Magacín  \n",
       "9967    RADIO-NACIONAL  Entretenimiento  \n",
       "9983    RADIO-NACIONAL     Documentales  \n",
       "9997    RADIO-NACIONAL          Magacín  \n",
       "\n",
       "[1326 rows x 4 columns]"
      ]
     },
     "execution_count": 67,
     "metadata": {},
     "output_type": "execute_result"
    }
   ],
   "source": [
    "Temas_Madrid"
   ]
  },
  {
   "cell_type": "markdown",
   "metadata": {},
   "source": [
    "Los topics más escuchados en Madrid son:"
   ]
  },
  {
   "cell_type": "code",
   "execution_count": 68,
   "metadata": {},
   "outputs": [
    {
     "data": {
      "text/plain": [
       "<matplotlib.axes._subplots.AxesSubplot at 0x231ae90b808>"
      ]
     },
     "execution_count": 68,
     "metadata": {},
     "output_type": "execute_result"
    },
    {
     "data": {
      "image/png": "[encoded data removed]",
      "text/plain": [
       "<Figure size 432x288 with 1 Axes>"
      ]
     },
     "metadata": {
      "needs_background": "light"
     },
     "output_type": "display_data"
    }
   ],
   "source": [
    "Temas_Madrid['podcast_topic'].value_counts(dropna=True).plot(kind='bar')"
   ]
  },
  {
   "cell_type": "markdown",
   "metadata": {},
   "source": [
    "Creamos una función para que devuelva los topics más escuchados en función de la región introducida:"
   ]
  },
  {
   "cell_type": "code",
   "execution_count": 69,
   "metadata": {},
   "outputs": [],
   "source": [
    "def topic_región (region):\n",
    "    Datos[Datos.region==region]['podcast_topic'].value_counts(dropna=True).plot(kind='bar')\n"
   ]
  },
  {
   "cell_type": "code",
   "execution_count": 70,
   "metadata": {},
   "outputs": [
    {
     "data": {
      "image/png": "[encoded data removed]",
      "text/plain": [
       "<Figure size 432x288 with 1 Axes>"
      ]
     },
     "metadata": {
      "needs_background": "light"
     },
     "output_type": "display_data"
    }
   ],
   "source": [
    "topic_región('Canarias')"
   ]
  },
  {
   "cell_type": "code",
   "execution_count": 71,
   "metadata": {},
   "outputs": [
    {
     "data": {
      "image/png": "[encoded data removed]",
      "text/plain": [
       "<Figure size 432x288 with 1 Axes>"
      ]
     },
     "metadata": {
      "needs_background": "light"
     },
     "output_type": "display_data"
    }
   ],
   "source": [
    "topic_región('Madrid')"
   ]
  },
  {
   "cell_type": "code",
   "execution_count": 72,
   "metadata": {},
   "outputs": [
    {
     "data": {
      "image/png": "[encoded data removed]",
      "text/plain": [
       "<Figure size 432x288 with 1 Axes>"
      ]
     },
     "metadata": {
      "needs_background": "light"
     },
     "output_type": "display_data"
    }
   ],
   "source": [
    "topic_región('Andalucía')"
   ]
  },
  {
   "cell_type": "code",
   "execution_count": 73,
   "metadata": {},
   "outputs": [
    {
     "data": {
      "text/html": [
       "<div>\n",
       "<style scoped>\n",
       "    .dataframe tbody tr th:only-of-type {\n",
       "        vertical-align: middle;\n",
       "    }\n",
       "\n",
       "    .dataframe tbody tr th {\n",
       "        vertical-align: top;\n",
       "    }\n",
       "\n",
       "    .dataframe thead th {\n",
       "        text-align: right;\n",
       "    }\n",
       "</style>\n",
       "<table border=\"1\" class=\"dataframe\">\n",
       "  <thead>\n",
       "    <tr style=\"text-align: right;\">\n",
       "      <th></th>\n",
       "      <th>date</th>\n",
       "      <th>metric</th>\n",
       "      <th>user</th>\n",
       "      <th>referer</th>\n",
       "      <th>os_family</th>\n",
       "      <th>browser_family</th>\n",
       "      <th>device_family</th>\n",
       "      <th>episode_file_path</th>\n",
       "      <th>episode_title</th>\n",
       "      <th>episode_duration</th>\n",
       "      <th>podcast_title</th>\n",
       "      <th>podcast_permalink</th>\n",
       "      <th>podcast_topic</th>\n",
       "      <th>city</th>\n",
       "      <th>region</th>\n",
       "      <th>country</th>\n",
       "      <th>time_zone</th>\n",
       "      <th>hora</th>\n",
       "      <th>minutos</th>\n",
       "      <th>clasificación_dur_ep</th>\n",
       "    </tr>\n",
       "  </thead>\n",
       "  <tbody>\n",
       "    <tr>\n",
       "      <th>0</th>\n",
       "      <td>2019-11-01T00:56:36.000</td>\n",
       "      <td>Número de descargas de tipo 206</td>\n",
       "      <td>6624207285322504776</td>\n",
       "      <td>NaN</td>\n",
       "      <td>Android</td>\n",
       "      <td>Android</td>\n",
       "      <td>Smartphone</td>\n",
       "      <td>1572564777864.mp3</td>\n",
       "      <td>Análisis de la información - 31/10/19</td>\n",
       "      <td>77.91475</td>\n",
       "      <td>24 horas</td>\n",
       "      <td>RADIO-NACIONAL</td>\n",
       "      <td>Informativos</td>\n",
       "      <td>Palencia</td>\n",
       "      <td>Castilla y León</td>\n",
       "      <td>España</td>\n",
       "      <td>Europe/Madrid</td>\n",
       "      <td>0</td>\n",
       "      <td>56</td>\n",
       "      <td>&gt;60 mins</td>\n",
       "    </tr>\n",
       "    <tr>\n",
       "      <th>1</th>\n",
       "      <td>2019-11-01T01:27:37.000</td>\n",
       "      <td>Número de descargas parciales de tipo 200</td>\n",
       "      <td>1093782487219863411</td>\n",
       "      <td>NaN</td>\n",
       "      <td>Android</td>\n",
       "      <td>Android</td>\n",
       "      <td>Smartphone</td>\n",
       "      <td>1572564777864.mp3</td>\n",
       "      <td>Análisis de la información - 31/10/19</td>\n",
       "      <td>77.91475</td>\n",
       "      <td>24 horas</td>\n",
       "      <td>RADIO-NACIONAL</td>\n",
       "      <td>Informativos</td>\n",
       "      <td>Madrid</td>\n",
       "      <td>Madrid</td>\n",
       "      <td>España</td>\n",
       "      <td>Europe/Madrid</td>\n",
       "      <td>1</td>\n",
       "      <td>27</td>\n",
       "      <td>&gt;60 mins</td>\n",
       "    </tr>\n",
       "  </tbody>\n",
       "</table>\n",
       "</div>"
      ],
      "text/plain": [
       "                      date                                     metric  \\\n",
       "0  2019-11-01T00:56:36.000            Número de descargas de tipo 206   \n",
       "1  2019-11-01T01:27:37.000  Número de descargas parciales de tipo 200   \n",
       "\n",
       "                  user referer os_family browser_family device_family  \\\n",
       "0  6624207285322504776     NaN   Android        Android    Smartphone   \n",
       "1  1093782487219863411     NaN   Android        Android    Smartphone   \n",
       "\n",
       "   episode_file_path                           episode_title  \\\n",
       "0  1572564777864.mp3  Análisis de la información - 31/10/19    \n",
       "1  1572564777864.mp3  Análisis de la información - 31/10/19    \n",
       "\n",
       "   episode_duration podcast_title podcast_permalink podcast_topic      city  \\\n",
       "0          77.91475      24 horas    RADIO-NACIONAL  Informativos  Palencia   \n",
       "1          77.91475      24 horas    RADIO-NACIONAL  Informativos    Madrid   \n",
       "\n",
       "            region country      time_zone  hora  minutos clasificación_dur_ep  \n",
       "0  Castilla y León  España  Europe/Madrid     0       56             >60 mins  \n",
       "1           Madrid  España  Europe/Madrid     1       27             >60 mins  "
      ]
     },
     "execution_count": 73,
     "metadata": {},
     "output_type": "execute_result"
    }
   ],
   "source": [
    "Datos.head(2)"
   ]
  },
  {
   "cell_type": "code",
   "execution_count": 74,
   "metadata": {},
   "outputs": [
    {
     "data": {
      "text/plain": [
       "Android          2880\n",
       "iOS              1349\n",
       "Windows          1185\n",
       "Mac OS X          259\n",
       "Resto             128\n",
       "No registrado       8\n",
       "Name: os_family, dtype: int64"
      ]
     },
     "execution_count": 74,
     "metadata": {},
     "output_type": "execute_result"
    }
   ],
   "source": [
    "Datos['os_family'].value_counts(dropna=False)"
   ]
  },
  {
   "cell_type": "code",
   "execution_count": 75,
   "metadata": {},
   "outputs": [
    {
     "data": {
      "text/plain": [
       "<matplotlib.axes._subplots.AxesSubplot at 0x231aeba5148>"
      ]
     },
     "execution_count": 75,
     "metadata": {},
     "output_type": "execute_result"
    },
    {
     "data": {
      "image/png": "[encoded data removed]",
      "text/plain": [
       "<Figure size 432x288 with 1 Axes>"
      ]
     },
     "metadata": {},
     "output_type": "display_data"
    }
   ],
   "source": [
    "Datos['os_family'].value_counts(dropna=False).plot(kind='pie')"
   ]
  },
  {
   "cell_type": "code",
   "execution_count": 76,
   "metadata": {},
   "outputs": [
    {
     "data": {
      "text/plain": [
       "Smartphone                   3580\n",
       "Dispositivo no registrado    1559\n",
       "Tableta                       325\n",
       "PC                            260\n",
       "Smart TV                       85\n",
       "Name: device_family, dtype: int64"
      ]
     },
     "execution_count": 76,
     "metadata": {},
     "output_type": "execute_result"
    }
   ],
   "source": [
    "Datos['device_family'].value_counts(dropna=False)"
   ]
  },
  {
   "cell_type": "code",
   "execution_count": 77,
   "metadata": {},
   "outputs": [
    {
     "data": {
      "text/plain": [
       "<matplotlib.axes._subplots.AxesSubplot at 0x231aebf2508>"
      ]
     },
     "execution_count": 77,
     "metadata": {},
     "output_type": "execute_result"
    },
    {
     "data": {
      "image/png": "[encoded data removed]",
      "text/plain": [
       "<Figure size 432x288 with 1 Axes>"
      ]
     },
     "metadata": {},
     "output_type": "display_data"
    }
   ],
   "source": [
    "Datos['device_family'].value_counts(dropna=False).plot(kind='pie')"
   ]
  },
  {
   "cell_type": "code",
   "execution_count": 78,
   "metadata": {},
   "outputs": [
    {
     "data": {
      "text/plain": [
       "Las mañanas de RNE con Pepa Fernández    533\n",
       "Espacio en blanco                        526\n",
       "Las mañanas de RNE con Íñigo Alfonso     243\n",
       "Hoy empieza todo con Ángel Carmona       210\n",
       "180 grados                               206\n",
       "                                        ... \n",
       "Canciones recomendadas                     1\n",
       "De cine                                    1\n",
       "Sangre sobre la tierra                     1\n",
       "Tablero deportivo                          1\n",
       "Mamás y papás                              1\n",
       "Name: podcast_title, Length: 366, dtype: int64"
      ]
     },
     "execution_count": 78,
     "metadata": {},
     "output_type": "execute_result"
    }
   ],
   "source": [
    "Datos['podcast_title'].value_counts(dropna=False)"
   ]
  },
  {
   "cell_type": "markdown",
   "metadata": {},
   "source": [
    "**Sistemas de recomendación**"
   ]
  },
  {
   "cell_type": "markdown",
   "metadata": {},
   "source": [
    "Empezando por un sistema de recomendación básico:\n",
    "    \n",
    "    Gráfico con los programas con más reproducciones."
   ]
  },
  {
   "cell_type": "code",
   "execution_count": 79,
   "metadata": {},
   "outputs": [
    {
     "data": {
      "text/plain": [
       "Las mañanas de RNE con Pepa Fernández                        533\n",
       "Espacio en blanco                                            526\n",
       "Las mañanas de RNE con Íñigo Alfonso                         243\n",
       "Hoy empieza todo con Ángel Carmona                           210\n",
       "180 grados                                                   206\n",
       "                                                            ... \n",
       "Siluetas                                                       1\n",
       "Aún no me he repuesto de la última noche que pasé contigo      1\n",
       "Un món d'ombres                                                1\n",
       "Mamás y papás                                                  1\n",
       "Consumo gusto                                                  1\n",
       "Name: podcast_title, Length: 365, dtype: int64"
      ]
     },
     "execution_count": 79,
     "metadata": {},
     "output_type": "execute_result"
    }
   ],
   "source": [
    "Datos['podcast_title'].value_counts(dropna=True)"
   ]
  },
  {
   "cell_type": "markdown",
   "metadata": {},
   "source": [
    "Los 10 programas más escuchados son:"
   ]
  },
  {
   "cell_type": "code",
   "execution_count": 80,
   "metadata": {},
   "outputs": [
    {
     "data": {
      "text/plain": [
       "<matplotlib.axes._subplots.AxesSubplot at 0x231aec49848>"
      ]
     },
     "execution_count": 80,
     "metadata": {},
     "output_type": "execute_result"
    },
    {
     "data": {
      "image/png": "[encoded data removed]",
      "text/plain": [
       "<Figure size 432x288 with 1 Axes>"
      ]
     },
     "metadata": {
      "needs_background": "light"
     },
     "output_type": "display_data"
    }
   ],
   "source": [
    "Datos['podcast_title'].value_counts(dropna=True).head(10).plot(kind='barh')"
   ]
  },
  {
   "cell_type": "markdown",
   "metadata": {},
   "source": [
    "Vemos los tipos de datos que hemos obtenido según el parámetro metric:"
   ]
  },
  {
   "cell_type": "code",
   "execution_count": 81,
   "metadata": {},
   "outputs": [
    {
     "data": {
      "text/plain": [
       "Número de descargas de tipo 206              3494\n",
       "Número de descargas parciales de tipo 206    1153\n",
       "Número de descargas parciales de tipo 200     965\n",
       "Número de descargas de tipo 200               197\n",
       "Name: metric, dtype: int64"
      ]
     },
     "execution_count": 81,
     "metadata": {},
     "output_type": "execute_result"
    }
   ],
   "source": [
    "Datos['metric'].value_counts(dropna=False)"
   ]
  },
  {
   "cell_type": "markdown",
   "metadata": {},
   "source": [
    "Otra forma sencilla de recomendar es por zonas geográficas, dado un topic concreto:"
   ]
  },
  {
   "cell_type": "code",
   "execution_count": 82,
   "metadata": {},
   "outputs": [],
   "source": [
    "def recomendador_zona_topic (region, tema):\n",
    "    Datos[(Datos.region==region) & (Datos.podcast_topic==tema)]['podcast_title'].value_counts(dropna=True).plot(kind='bar')\n",
    "    \n"
   ]
  },
  {
   "cell_type": "code",
   "execution_count": 83,
   "metadata": {},
   "outputs": [
    {
     "data": {
      "image/png": "[encoded data removed]",
      "text/plain": [
       "<Figure size 432x288 with 1 Axes>"
      ]
     },
     "metadata": {
      "needs_background": "light"
     },
     "output_type": "display_data"
    }
   ],
   "source": [
    "recomendador_zona_topic ('Madrid', 'Documentales')"
   ]
  },
  {
   "cell_type": "code",
   "execution_count": 84,
   "metadata": {},
   "outputs": [
    {
     "data": {
      "text/plain": [
       "30-60 mins    3572\n",
       "<30 mins      1121\n",
       ">60 mins      1116\n",
       "Name: clasificación_dur_ep, dtype: int64"
      ]
     },
     "execution_count": 84,
     "metadata": {},
     "output_type": "execute_result"
    }
   ],
   "source": [
    "Datos['clasificación_dur_ep'].value_counts(dropna=False)"
   ]
  },
  {
   "cell_type": "markdown",
   "metadata": {},
   "source": [
    "Si además quisiéramos añadir el filtro del tiempo de duración de los episodios:"
   ]
  },
  {
   "cell_type": "code",
   "execution_count": 85,
   "metadata": {},
   "outputs": [],
   "source": [
    "def recomendador_zona_topic_tiempo (region, tema, tiempo):\n",
    "   \n",
    "    \n",
    "     if tiempo >= 60 :\n",
    "        return Datos[(Datos.region==region) & (Datos.podcast_topic==tema) & (Datos.clasificación_dur_ep=='>60 mins') ]['podcast_title'].value_counts(dropna=True)\n",
    "\n",
    "     elif 30 <= tiempo < 60 :\n",
    "        return Datos[(Datos.region==region) & (Datos.podcast_topic==tema) & (Datos.clasificación_dur_ep=='30-60 mins') ]['podcast_title'].value_counts(dropna=True)\n",
    "  \n",
    "      \n",
    "    \n",
    "     else:\n",
    "        if tiempo < 30 :\n",
    "            return Datos[(Datos.region==region) & (Datos.podcast_topic==tema) & (Datos.clasificación_dur_ep=='<30 mins') ]['podcast_title'].value_counts(dropna=True)\n",
    "           \n",
    "    "
   ]
  },
  {
   "cell_type": "code",
   "execution_count": 86,
   "metadata": {},
   "outputs": [
    {
     "data": {
      "text/plain": [
       "Espacio en blanco          112\n",
       "La observadora               2\n",
       "La víspera del infinito      1\n",
       "Radiogramas                  1\n",
       "Name: podcast_title, dtype: int64"
      ]
     },
     "execution_count": 86,
     "metadata": {},
     "output_type": "execute_result"
    }
   ],
   "source": [
    "recomendador_zona_topic_tiempo ('Madrid', 'Entretenimiento', 50)"
   ]
  },
  {
   "cell_type": "code",
   "execution_count": 87,
   "metadata": {},
   "outputs": [
    {
     "data": {
      "text/plain": [
       "Las mañanas de RNE con Pepa Fernández    27\n",
       "Solamente una vez                         5\n",
       "El gallo que no cesa                      4\n",
       "Gente despierta                           3\n",
       "No es un día cualquiera                   3\n",
       "Canarias Mediodía - RNE                   1\n",
       "Name: podcast_title, dtype: int64"
      ]
     },
     "execution_count": 87,
     "metadata": {},
     "output_type": "execute_result"
    }
   ],
   "source": [
    "recomendador_zona_topic_tiempo ('Andalucía', 'Magacín', 22)"
   ]
  },
  {
   "cell_type": "code",
   "execution_count": 88,
   "metadata": {},
   "outputs": [
    {
     "data": {
      "text/plain": [
       "Desde el Metro de Madrid                                                                         117\n",
       "Festivo musical                                                                                   36\n",
       "'Blasphemous', 'Europa soy yo' y Bandeja de Entrada                                               14\n",
       "Desafío DJ y el regreso de Carlangas                                                              10\n",
       "Desafío DJ: Vetusta Morla vs. Delaporte                                                            5\n",
       "Pixies y Messura                                                                                   3\n",
       "'Érase una vez'... Depedro                                                                         2\n",
       "Rugby y Nunatak                                                                                    2\n",
       "¡Que le den a la ciencia!                                                                          2\n",
       "Colectivo Da Silva, Rocío Vidal y lo nuevo de Fuel Fandango                                        2\n",
       "El campamento del rock                                                                             1\n",
       "Manel, Pere Estupinyà y Jaime Cruz                                                                 1\n",
       "Entrevista a Josele Santiago                                                                       1\n",
       "La Bien Querida nos presenta 'Brujería'                                                            1\n",
       "Desafío DJ: Las Odio vs. Putochinomaricón                                                          1\n",
       "La M.O.D.A. acaba su gira                                                                          1\n",
       "La \"¿Revolución?\" de Coque Malla                                                                   1\n",
       "Pucho y Peich: dos amigos van al cine                                                              1\n",
       "La rumba Catalana                                                                                  1\n",
       "All La Glory, Inmovilizados y... Rodrigo Rato                                                      1\n",
       "Aberrón y Radio Ambulante                                                                          1\n",
       "Desde el Café Pavón con Viva Suecia y Enric Montefusco                                             1\n",
       "'Salto al Color' con Amaral                                                                        1\n",
       "Desafío DJ: Anni B Sweet vs. Amaro Ferreiro                                                        1\n",
       "Daniel Johnsotn, 091, Mar Abad, Elena Lázaro y Jaime Cruz                                          1\n",
       "La M.O.D.A. y Depedro                                                                              1\n",
       "Hoy empieza todo con Ángel Carmona - Miss Caffeina & Varry Brava y Pablo Yglesias - 23/10/19       1\n",
       "Name: episode_title, dtype: int64"
      ]
     },
     "execution_count": 88,
     "metadata": {},
     "output_type": "execute_result"
    }
   ],
   "source": [
    "Datos[(Datos.podcast_title=='Hoy empieza todo con Ángel Carmona')]['episode_title'].value_counts(dropna=True)"
   ]
  },
  {
   "cell_type": "code",
   "execution_count": 89,
   "metadata": {},
   "outputs": [
    {
     "data": {
      "text/plain": [
       ">60 mins    194\n",
       "<30 mins     16\n",
       "Name: clasificación_dur_ep, dtype: int64"
      ]
     },
     "execution_count": 89,
     "metadata": {},
     "output_type": "execute_result"
    }
   ],
   "source": [
    "Datos[(Datos.podcast_title=='Hoy empieza todo con Ángel Carmona')][['episode_title', 'clasificación_dur_ep']]['clasificación_dur_ep'].value_counts()"
   ]
  },
  {
   "cell_type": "code",
   "execution_count": null,
   "metadata": {},
   "outputs": [],
   "source": []
  }
 ],
 "metadata": {
  "kernelspec": {
   "display_name": "Python 3",
   "language": "python",
   "name": "python3"
  },
  "language_info": {
   "codemirror_mode": {
    "name": "ipython",
    "version": 3
   },
   "file_extension": ".py",
   "mimetype": "text/x-python",
   "name": "python",
   "nbconvert_exporter": "python",
   "pygments_lexer": "ipython3",
   "version": "3.7.6"
  }
 },
 "nbformat": 4,
 "nbformat_minor": 4
}
